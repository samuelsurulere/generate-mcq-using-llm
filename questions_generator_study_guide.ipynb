{
 "cells": [
  {
   "cell_type": "code",
   "execution_count": 1,
   "metadata": {
    "metadata": {}
   },
   "outputs": [
    {
     "data": {
      "text/plain": [
       "True"
      ]
     },
     "execution_count": 1,
     "metadata": {},
     "output_type": "execute_result"
    }
   ],
   "source": [
    "import json, os\n",
    "import pandas as pd\n",
    "from langchain_openai import ChatOpenAI\n",
    "from dotenv import load_dotenv\n",
    "from langchain.prompts import PromptTemplate\n",
    "from langchain.chains.llm import LLMChain\n",
    "from langchain.chains.sequential import SequentialChain\n",
    "from langchain.callbacks.manager import get_openai_callback\n",
    "from PyPDF2 import PdfReader\n",
    "from docx import Document\n",
    "\n",
    "load_dotenv()  # take environment variables from .env"
   ]
  },
  {
   "cell_type": "code",
   "execution_count": 2,
   "metadata": {},
   "outputs": [],
   "source": [
    "read_vocab = PdfReader(\"pdf_files/science_study_guide.pdf\")\n",
    "\n",
    "sample_questions = \"\"\n",
    "for i, page in enumerate(read_vocab.pages):\n",
    "    content = page.extract_text()\n",
    "    if content:\n",
    "        sample_questions += content"
   ]
  },
  {
   "cell_type": "code",
   "execution_count": 14,
   "metadata": {},
   "outputs": [],
   "source": [
    "def preprocess_text(text):\n",
    "    text = text.replace(\"\\n\", \" \").strip()\n",
    "    text = text.replace(\"\\n\\n\", \" \").strip()\n",
    "    cleaned_text = text.replace(\"  \", \" \").strip()\n",
    "    return cleaned_text\n",
    "\n",
    "sample_questions = preprocess_text(sample_questions)"
   ]
  },
  {
   "cell_type": "code",
   "execution_count": 15,
   "metadata": {
    "metadata": {}
   },
   "outputs": [],
   "source": [
    "llm = ChatOpenAI(\n",
    "    model_name=\"gpt-3.5-turbo\", \n",
    "    temperature=0.8,\n",
    "    )"
   ]
  },
  {
   "cell_type": "code",
   "execution_count": 16,
   "metadata": {},
   "outputs": [],
   "source": [
    "RESPONSE_JSON = {\n",
    "    \"1\": {\n",
    "        \"mcq\": \"multiple choice question\",\n",
    "        \"options\": {\n",
    "            \"A.\": \"choice here\",\n",
    "            \"B.\": \"choice here\",\n",
    "            \"C.\": \"choice here\",\n",
    "            \"D.\": \"choice here\",\n",
    "        },\n",
    "        \"correct\": \"correct answer\",\n",
    "    },\n",
    "    \"2\": {\n",
    "        \"mcq\": \"multiple choice question\",\n",
    "        \"options\": {\n",
    "            \"A.\": \"choice here\",\n",
    "            \"B.\": \"choice here\",\n",
    "            \"C.\": \"choice here\",\n",
    "            \"D.\": \"choice here\",\n",
    "        },\n",
    "        \"correct\": \"correct answer\",\n",
    "    },\n",
    "    \"3\": {\n",
    "        \"mcq\": \"multiple choice question\",\n",
    "        \"options\": {\n",
    "            \"A.\": \"choice here\",\n",
    "            \"B.\": \"choice here\",\n",
    "            \"C.\": \"choice here\",\n",
    "            \"D.\": \"choice here\",\n",
    "        },\n",
    "        \"correct\": \"correct answer\",\n",
    "    },\n",
    "}"
   ]
  },
  {
   "cell_type": "code",
   "execution_count": 17,
   "metadata": {
    "metadata": {}
   },
   "outputs": [],
   "source": [
    "first_template = \"\"\"\n",
    "This is how you are to respond to this task: You are an expert seasoned examiner with the Apprenticeship and Industry Training (AIT) organization in Alberta, Canada. You have 20 years of experience \n",
    "preparing the preapprenticeship entrance exams for skilled trade participants. You are highly skilled and have high level expertise with minimal typographic mistakes or errors in the answers. You are \n",
    "skilled in creating multiple choice questions that contains both calculations, theory and conceptual questions to prepare participants for the entrance exams. This tone must strongly reflect in the \n",
    "generated multiple choice questions. You are provided with sample questions from the stuyd guide that was prepared by AIT. Using the {sample_questions}, creatively generate mutiple choice questions \n",
    "having {number} questions. The quiz questions should conform to the standard of the AIT exam questions. The questions should be similar to the {sample_questions}. Each question must be unique and \n",
    "completely different from others. Format your response using the {response_json} template as a guide. Ensure to include some questions that will involve calculations using formulas and also conversion \n",
    "between metric/imperial units. Some questions should not be straightforward and should require the trade participants to think critically. Ensure that you cross-check the {sample_questions} and provide \n",
    "the correct information for each question and the exact answer for each question. Use the {response_json} template to format your response. The total number of quesions must be {number}. Some examples \n",
    "of calculation questions and their corresponding answers are provided in the below:\n",
    "\n",
    "**Specific Requirements:**\n",
    "\n",
    "1. **Theory and Conceptual Questions**: Include questions that test theoretical knowledge and conceptual understanding.\n",
    "2. **Critical Thinking**: Some questions should not be straightforward and should require the trade participants to think critically.\n",
    "3. **Accuracy**: Ensure that you cross-check the {sample_questions} and provide the correct information for each question and the exact answer for each question.\n",
    "4. **Diversity**: Questions should cover a wide range of topics within the provided vocabulary handout to ensure a comprehensive assessment.\n",
    "5. **Unique Questions**: Each question must be unique and completely different from others and also different from the {sample_questions}.\n",
    "\n",
    "Ensure that all your generated questions follow the {response_json} structure exactly.\n",
    "\"\"\""
   ]
  },
  {
   "cell_type": "code",
   "execution_count": 18,
   "metadata": {
    "metadata": {}
   },
   "outputs": [],
   "source": [
    "quiz_generation_prompt = PromptTemplate(\n",
    "    input_variables=[\"sample_questions\", \"number\", \"response_json\"],\n",
    "    template=first_template,\n",
    "    )"
   ]
  },
  {
   "cell_type": "code",
   "execution_count": 19,
   "metadata": {
    "metadata": {}
   },
   "outputs": [],
   "source": [
    "quiz_chain = LLMChain(\n",
    "    llm=llm,\n",
    "    prompt=quiz_generation_prompt,\n",
    "    output_key=\"quiz\",\n",
    "    verbose=True,\n",
    "    )"
   ]
  },
  {
   "cell_type": "code",
   "execution_count": 20,
   "metadata": {
    "metadata": {}
   },
   "outputs": [],
   "source": [
    "second_template = \"\"\"\n",
    "This is the tone in which you are to respond to the assigned task: You are an expert exam reviewer with 20 years of experience working with the Apprenticeship and Industry Training (AIT) \n",
    "organization in Alberta, Canada. Your job is to ensure that the exam questions meet the required standard for pre-apprenticeship entrance exams. You are assigned to check for the correctness \n",
    "of each question, cross-check the answer, and carefully fact-check the information contained in the generated questions.\n",
    "\n",
    "**Task Overview:**\n",
    "\n",
    "Given some multiple-choice questions recently generated, you must:\n",
    "1. Evaluate the complexity of each question and provide a complete analysis of the {quiz}. Use a maximum of 100 words for the complexity analysis.\n",
    "2. Ensure that the questions include a balanced mix of calculation questions and theoretical/conceptual questions.\n",
    "4. Check for the accuracy of the questions, correctness of formulas, and units used.\n",
    "5. Verify the correctness of each provided answer.\n",
    "\n",
    "**If the quiz does not meet the required standard:**\n",
    "\n",
    "- Identify the questions that need to be changed.\n",
    "- Generate new questions to replace the incorrect ones, ensuring they follow the existing structure and meet the specified requirements.\n",
    "- Ensure the new questions are unique and diverse, covering a range of topics within the provided vocabulary handout.\n",
    "\n",
    "**Evaluation Criteria:**\n",
    "\n",
    "- Accuracy: Ensure all questions and answers are factually correct.\n",
    "- Complexity: Analyze and ensure the questions are appropriately challenging.\n",
    "- Calculation: Verify the inclusion and correctness of calculation-based questions.\n",
    "\n",
    "**Quiz_MCQs:**\n",
    "{quiz}\n",
    "\n",
    "**Check from an Expert Reviewer:**\n",
    "\"\"\""
   ]
  },
  {
   "cell_type": "code",
   "execution_count": 21,
   "metadata": {
    "metadata": {}
   },
   "outputs": [],
   "source": [
    "quiz_evaluation_prompt = PromptTemplate(\n",
    "    input_variables=[\"quiz\"],\n",
    "    template=second_template,\n",
    "    )"
   ]
  },
  {
   "cell_type": "code",
   "execution_count": 22,
   "metadata": {
    "metadata": {}
   },
   "outputs": [],
   "source": [
    "review_chain = LLMChain(\n",
    "    llm=llm,\n",
    "    prompt=quiz_evaluation_prompt,\n",
    "    output_key=\"review\",\n",
    "    verbose=True,\n",
    "    )"
   ]
  },
  {
   "cell_type": "code",
   "execution_count": 23,
   "metadata": {
    "metadata": {}
   },
   "outputs": [],
   "source": [
    "generate_evaluate_chain = SequentialChain(\n",
    "    chains=[quiz_chain, review_chain],\n",
    "    input_variables=[\"sample_questions\", \"number\", \"response_json\"],\n",
    "    output_variables=[\"quiz\", \"review\"],\n",
    "    verbose=True,\n",
    "    )"
   ]
  },
  {
   "cell_type": "code",
   "execution_count": 24,
   "metadata": {},
   "outputs": [
    {
     "data": {
      "text/plain": [
       "'{\"1\": {\"mcq\": \"multiple choice question\", \"options\": {\"A.\": \"choice here\", \"B.\": \"choice here\", \"C.\": \"choice here\", \"D.\": \"choice here\"}, \"correct\": \"correct answer\"}, \"2\": {\"mcq\": \"multiple choice question\", \"options\": {\"A.\": \"choice here\", \"B.\": \"choice here\", \"C.\": \"choice here\", \"D.\": \"choice here\"}, \"correct\": \"correct answer\"}, \"3\": {\"mcq\": \"multiple choice question\", \"options\": {\"A.\": \"choice here\", \"B.\": \"choice here\", \"C.\": \"choice here\", \"D.\": \"choice here\"}, \"correct\": \"correct answer\"}}'"
      ]
     },
     "execution_count": 24,
     "metadata": {},
     "output_type": "execute_result"
    }
   ],
   "source": [
    "# Serialize the Python dictionary into a JSON-formatted string\n",
    "json.dumps(RESPONSE_JSON)"
   ]
  },
  {
   "cell_type": "code",
   "execution_count": 31,
   "metadata": {},
   "outputs": [
    {
     "name": "stdout",
     "output_type": "stream",
     "text": [
      "\n",
      "\n",
      "\u001b[1m> Entering new SequentialChain chain...\u001b[0m\n",
      "\n",
      "\n",
      "\u001b[1m> Entering new LLMChain chain...\u001b[0m\n",
      "Prompt after formatting:\n",
      "\u001b[32;1m\u001b[1;3m\n",
      "This is how you are to respond to this task: You are an expert seasoned examiner with the Apprenticeship and Industry Training (AIT) organization in Alberta, Canada. You have 20 years of experience \n",
      "preparing the preapprenticeship entrance exams for skilled trade participants. You are highly skilled and have high level expertise with minimal typographic mistakes or errors in the answers. You are \n",
      "skilled in creating multiple choice questions that contains both calculations, theory and conceptual questions to prepare participants for the entrance exams. This tone must strongly reflect in the \n",
      "generated multiple choice questions. You are provided with sample questions from the stuyd guide that was prepared by AIT. Using the Trade Entrance Exam  Study Guide  English and Reading Comprehension   20 Trade Entrance Exam Study Guide     NOTE: The answer key for all the following questions in this study guide can be found at the end of the study guide (page 33)    SECTION THREE: SCIENCE   Studying for the Science section of the trade entrance exam.   Each Entrance Exam includes a se ction for Science questions. The questions are designed to challenge the exam writer's ability to recall basic information, manipulate basic equations , and interpret basic scientific relationships. The types of questions asked and the difficulty will va ry with the exam for each cluster.     38. What does 6.4 liters of water equal in imperial gallons?   A. 1.408 gal.  B. 3.635 gal.  C. 5.628 gal.  D. 5.632 gal.   This question is applicable to Cluster 2, Cluster 4, Cluster 5 .    39. Convert 11.4 km to miles and express to two decimal places.   A. 5.70 mi.  B. 7.08 mi.  C. 9.79 mi.  D. 18.34 mi.   This question is applicable to Cluster 1, Cluster 2, Cluster 3, Cluster 4, Cluster 5 .    40. How many tablespoons are there in 49.74 ml?   A. 3.50 tbsp.  B. 10.49 tbsp.  C. 35.00 tbsp.  D. 706.81 tbsp.   This question is applicable to Cluster 1, Cluster 2, Cluster 3, Cluster 4, Cluster 5 . Trade Entrance Exam  Study Guide  Science   21 Classification: Protected A Trade Entrance Exam Study Guide     41. When a gas is heated it   A. expands.  B. contracts.  C. condenses.  D. solidifies.   This question is applicable to Cluster 1, Cluster 2, Cluster 3, Cluster 4, Cluster 5 .    42. Water at sea level heated to 100° Celsius would be   A. expanding.  B. just beginning to change to a solid.  C. starting to boil.  D. contracting.   This question is applicable to Cluster 1, Cluster 2, Cluster 3, Cluster 4, Cluster 5 .    43. An object floats in water because the weight of water displaced is   A. more than the object 's weight.  B. less than the object 's weight.  C. equal to the object 's weight.  D. not related to the object's weight.   This question is applicable to Cluster 1, Cluster 2, Cluster 3, Cluster 4, Cluster 5 .    44. The cooling effect of alcohol on the skin is the result of   A. sublimation of liquids.  B. condensation of liquids.  C. evaporation of liquids.  D. contraction of liquids.   This question is applicable to Cluster 1, Cluster 2, Cluster 3, Cluster 4, Cluster 5 .    45. Which of the following could be used to express density?   A. Grams per centimeter.  B. Grams per square centimeter.  C. Grams per cubic cen timeter.  D. Grams per kilometer.   This question is applicable to Cluster 1, Cluster 2, Cluster 3, Cluster 4, Cluster 5 . Trade Entrance Exam  Study Guide  Science   22 Classification: Protected A Trade Entrance Exam Study Guide    46. The pressure gauge on a bottle containing a gas would show a lower reading if the gas in the bottle was   A. to expand.  B. cooled.  C. heated.  D. a constant temperature.   This question is applicable to Cluster 1, Cluster 2, Cluster 3, Cluster 4, Cluster 5 .    47. Which state is matter in if it has a definite shape and a definite volume?   A. solid.  B. liquid.  C. gas. D. fluid.   This question is applicable to Cluster 1, Cluster 2, Cluster 3, Cluster 4, Cluster 5 .    48. The reason ice floats on water is because it   A. is a solid.  B. contains more air.  C. has less heat energy than water.  D. is less de nse than water.   This question is applicable to Cluster 1, Cluster 2, Cluster 3, Cluster 4, Cluster 5 .    49. Compared to an elevation of 1,000 meters, the air pressure at sea level is generally   A. lower.  B. higher.  C. the same.  D. lower in the summer.   This question is applicable to Cluster 1, Cluster 2, Cluster 3, Cluster 4, Cluster 5 .    50. Assuming equal volumes, the expansion of solids is usually   A. greater than liquids.  B. the same as liquids.  C. greater than gases  D. less than liquids.   This qu estion is applicable to Cluster 1, Cluster 2, Cluster 3, Cluster 4, Cluster 5 . Trade Entrance Exam  Study Guide  Science   23 Classification: Protected A Trade Entrance Exam Study Guide     51. Which of the following is true?   A. A liquid has no mass, shape, or volume.  B. A liquid will expand to fit the container it is in.  C. Liquids can not be easily compressed.  D. A liquid has mass but no shape or volume.   This question is applicable to Cluster 1, Cluster 2, Cluster 3, Cluster 4, Cluster 5 .    52. The ability to do work is known as   A. power.  B. energy.  C. force.  D. effort.   This question is applicable to Cluster 1, Cluster 2, Cluster 3, Cluster 4, Cluster 5 .    53. A parallel circuit is one in which   A. two batteries are included in the circuit.  B. current can flow through only one path.  C. current can flow through more than one path.  D. light bulbs must not be used.   This question is applicable to Cluster 3, Cluster 4, Cluster 5 .    54. A series circuit includes several lamps. When the light bulb from one lamp is removed the other lights will   A. stay lit.  B. stay lit and get brighter.  C. stay lit and get dimmer.  D. no longer be lit.   This question is applicable to Cluster 3, Cluster 4, Cluster 5 . Trade Entrance Exam  Study Guide  Science   24 Classification: Protected A Trade Entrance Exam Study Guide     55. Refer to diagram 003. To ensure safe climbing practice, the base of a straight lad der should be one meter out for every four meters of height to the point of support. If h = 8 m, what is the value of d?   A. 2 m B. 2.5 m  C. 3.2 m  D. 4 m   This question is applicable to Cluster 1, Cluster 2, Cluster 3, Cluster 4, Cluster 5 .    56. When trying to move a 150 kg rock using a 3 meter pry bar you can make the task easier by placing a smaller rock under the pry bar   A. 1.0 meter from the large rock.  B. 1.5 meters from the large rock.  C. 2.0 meters from the large rock.  D. 2.5 meters from the la rge rock.   This question is applicable to Cluster 1, Cluster 2, Cluster 3, Cluster 4, Cluster 5 .    57. Given the relationship E(voltage) = I(current) x R(resistance), what is the current in a circuit with E = 6 volts and R = 15 ohms?   A. 0.04 amps  B. 0.40 amps  C. 4.00 amps  D. 40.00 amps   This question is applicable to Cluster 3, Cluster 4, Cluster 5 .    58. A liter of water has a mass of   A. 1 kg B. 1 km  C. 1 ksec  D. 1 kW   This question is applicable to Cluster 2, Cluster 3, Cluster 4 . Trade Entrance Exam  Study Guide  Science   25 Classification: Protected A Trade Entrance Exam Study Guide     59. A fulcrum is used to support a   A. wedge.  B. ramp.  C. drawer.  D. lever.   This question is applicable to Cluster 2, Cluster 3, Cluster 4, Cluster 5 .    60. Which of the following does not affect the amount of heat a body will store?   A. Density.  B. Altitude.  C. Mass.  D. Both (a) and (c).   This question is applicable to Cluster 2, Cluster 3, Cluster 4, Cluster 5 .    61. If friction can cause heat to be released, letting a cord slide quickly through your hands will cause   A. your hands to feel cool.  B. your hands to become wet.  C. your hands to feel warmer.  D. your hands to feel stiff.   This question is applicable to Cluster 1, Cluster 2, Cluster 3, Cluster 4, Cluster 5 .    62. What causes a coasting vehicle in motion to eventually come to a stop?  A. Friction.  B. Expansion.  C. Contraction.  D. Potential Energy.   This question is applicable to Cluster 3, Cluster 4, Cluster 5 .    63. The chemical combination of two or more elements is known as a/an   A. isotope.  B. ion. C. compound.  D. catalyst.   This question is applicable to Cluster 1, Cluster 2, Cluster 3, Cluster 4, Cluster 5. Trade Entrance Exam  Study Guide  Science   26 Classification: Protected A Trade Entrance Exam Study Guide     64. The molecular composition of water is   A. 2 hydrogen atoms + 2 oxygen atoms.  B. 1 hydrogen atom + 1 oxygen atom.  C. 2 hydrogen atoms + 1 oxygen atom.  D. 2 oxygen atoms + 1 Hydrogen atom.   This question is applicable to Cluster 1, Cluster 2, Cluster 3, Cluster 4, Cluster 5.     65. If a gas in a closed space is compressed, it will   A. decrease in temperat ure. B. increase in temperature.  C. solidify.  D. move more slowly.   This question is applicable to Cluster 3, Cluster 4, Cluster 5.     66. The reason inventors have not been able to invent a machine that is 100% efficient is because of   A. gravity.  B. inertia.  C. technology.  D. friction.   This question is applicable to Cluster 2, Cluster 3, Cluster 4, Cluster 5.     67. How much work is done in 1 minute by a machine operating at 300 ft. lb./sec   A. 300 ft lb  B. 1,800 ft lb  C. 18,000 ft lb  D. 180,000 ft lb   This question is applicable to Cluster 2, Cluster 3, Cluster 4, Cluster 5.     68. The volume of a cube which is 5 meters per side is   A. 5 cubic meters.  B. 25 cubic meters.  C. 75 cubic meters.  D. 125 cubic meters.   This question is applicable to Cluster 2, Cluster 3, Cluster 4, Cluster 5. Trade Entrance Exam  Study Guide  Science   27 Classification: Protected A Trade Entrance Exam Study Guide      69. Refer to Diagram 020. Four pumps are shown in the diagram. Arrows show the direction the piston is being moved. Choose the only pump that will pump water.   A. B. C. D.   This question is applicable to Cluster 3, Cluster 4.     70. Refer to Diagram 014. Which diagram shows what happens when heat is applied to a bi -metal strip consisting of stainless steel on the top and brass on the bottom? (Brass has the higher expansion rate.)   A. B. C. D.   This question is applicable to Cluster 1 . Trade Entrance Exam  Diagram Book   33 Classification: Protected A  Trade Entrance Exam Answer Key   1. A 36. B 2. D 37. D 3. C 38. A 4 D 39. B 5 A 40. A 6. D 41. A 7. C 42. C 8. B 43. C 9. B 44. C 10. B 45. C 11. C 46. B 12. C 47. A 13. D 48. D 14. C 49. B 15. C 50. D 16. B 51. C 17. D 52. B 18. D 53. C 19. C 54. D 20. C 55. A 21. B 56. A 22. A 57. B 23. C 58. A 24. A 59. D 25. D 60. B 26. D 61. C 27. B 62 A 28. D 63 C 29. C 64 C 30. C 65. B 31. C 66. D 32. B 67. C 33. D 68. D 34. A 69. D 35. C 70. C, creatively generate mutiple choice questions \n",
      "having 20 questions. The quiz questions should conform to the standard of the AIT exam questions. The questions should be similar to the Trade Entrance Exam  Study Guide  English and Reading Comprehension   20 Trade Entrance Exam Study Guide     NOTE: The answer key for all the following questions in this study guide can be found at the end of the study guide (page 33)    SECTION THREE: SCIENCE   Studying for the Science section of the trade entrance exam.   Each Entrance Exam includes a se ction for Science questions. The questions are designed to challenge the exam writer's ability to recall basic information, manipulate basic equations , and interpret basic scientific relationships. The types of questions asked and the difficulty will va ry with the exam for each cluster.     38. What does 6.4 liters of water equal in imperial gallons?   A. 1.408 gal.  B. 3.635 gal.  C. 5.628 gal.  D. 5.632 gal.   This question is applicable to Cluster 2, Cluster 4, Cluster 5 .    39. Convert 11.4 km to miles and express to two decimal places.   A. 5.70 mi.  B. 7.08 mi.  C. 9.79 mi.  D. 18.34 mi.   This question is applicable to Cluster 1, Cluster 2, Cluster 3, Cluster 4, Cluster 5 .    40. How many tablespoons are there in 49.74 ml?   A. 3.50 tbsp.  B. 10.49 tbsp.  C. 35.00 tbsp.  D. 706.81 tbsp.   This question is applicable to Cluster 1, Cluster 2, Cluster 3, Cluster 4, Cluster 5 . Trade Entrance Exam  Study Guide  Science   21 Classification: Protected A Trade Entrance Exam Study Guide     41. When a gas is heated it   A. expands.  B. contracts.  C. condenses.  D. solidifies.   This question is applicable to Cluster 1, Cluster 2, Cluster 3, Cluster 4, Cluster 5 .    42. Water at sea level heated to 100° Celsius would be   A. expanding.  B. just beginning to change to a solid.  C. starting to boil.  D. contracting.   This question is applicable to Cluster 1, Cluster 2, Cluster 3, Cluster 4, Cluster 5 .    43. An object floats in water because the weight of water displaced is   A. more than the object 's weight.  B. less than the object 's weight.  C. equal to the object 's weight.  D. not related to the object's weight.   This question is applicable to Cluster 1, Cluster 2, Cluster 3, Cluster 4, Cluster 5 .    44. The cooling effect of alcohol on the skin is the result of   A. sublimation of liquids.  B. condensation of liquids.  C. evaporation of liquids.  D. contraction of liquids.   This question is applicable to Cluster 1, Cluster 2, Cluster 3, Cluster 4, Cluster 5 .    45. Which of the following could be used to express density?   A. Grams per centimeter.  B. Grams per square centimeter.  C. Grams per cubic cen timeter.  D. Grams per kilometer.   This question is applicable to Cluster 1, Cluster 2, Cluster 3, Cluster 4, Cluster 5 . Trade Entrance Exam  Study Guide  Science   22 Classification: Protected A Trade Entrance Exam Study Guide    46. The pressure gauge on a bottle containing a gas would show a lower reading if the gas in the bottle was   A. to expand.  B. cooled.  C. heated.  D. a constant temperature.   This question is applicable to Cluster 1, Cluster 2, Cluster 3, Cluster 4, Cluster 5 .    47. Which state is matter in if it has a definite shape and a definite volume?   A. solid.  B. liquid.  C. gas. D. fluid.   This question is applicable to Cluster 1, Cluster 2, Cluster 3, Cluster 4, Cluster 5 .    48. The reason ice floats on water is because it   A. is a solid.  B. contains more air.  C. has less heat energy than water.  D. is less de nse than water.   This question is applicable to Cluster 1, Cluster 2, Cluster 3, Cluster 4, Cluster 5 .    49. Compared to an elevation of 1,000 meters, the air pressure at sea level is generally   A. lower.  B. higher.  C. the same.  D. lower in the summer.   This question is applicable to Cluster 1, Cluster 2, Cluster 3, Cluster 4, Cluster 5 .    50. Assuming equal volumes, the expansion of solids is usually   A. greater than liquids.  B. the same as liquids.  C. greater than gases  D. less than liquids.   This qu estion is applicable to Cluster 1, Cluster 2, Cluster 3, Cluster 4, Cluster 5 . Trade Entrance Exam  Study Guide  Science   23 Classification: Protected A Trade Entrance Exam Study Guide     51. Which of the following is true?   A. A liquid has no mass, shape, or volume.  B. A liquid will expand to fit the container it is in.  C. Liquids can not be easily compressed.  D. A liquid has mass but no shape or volume.   This question is applicable to Cluster 1, Cluster 2, Cluster 3, Cluster 4, Cluster 5 .    52. The ability to do work is known as   A. power.  B. energy.  C. force.  D. effort.   This question is applicable to Cluster 1, Cluster 2, Cluster 3, Cluster 4, Cluster 5 .    53. A parallel circuit is one in which   A. two batteries are included in the circuit.  B. current can flow through only one path.  C. current can flow through more than one path.  D. light bulbs must not be used.   This question is applicable to Cluster 3, Cluster 4, Cluster 5 .    54. A series circuit includes several lamps. When the light bulb from one lamp is removed the other lights will   A. stay lit.  B. stay lit and get brighter.  C. stay lit and get dimmer.  D. no longer be lit.   This question is applicable to Cluster 3, Cluster 4, Cluster 5 . Trade Entrance Exam  Study Guide  Science   24 Classification: Protected A Trade Entrance Exam Study Guide     55. Refer to diagram 003. To ensure safe climbing practice, the base of a straight lad der should be one meter out for every four meters of height to the point of support. If h = 8 m, what is the value of d?   A. 2 m B. 2.5 m  C. 3.2 m  D. 4 m   This question is applicable to Cluster 1, Cluster 2, Cluster 3, Cluster 4, Cluster 5 .    56. When trying to move a 150 kg rock using a 3 meter pry bar you can make the task easier by placing a smaller rock under the pry bar   A. 1.0 meter from the large rock.  B. 1.5 meters from the large rock.  C. 2.0 meters from the large rock.  D. 2.5 meters from the la rge rock.   This question is applicable to Cluster 1, Cluster 2, Cluster 3, Cluster 4, Cluster 5 .    57. Given the relationship E(voltage) = I(current) x R(resistance), what is the current in a circuit with E = 6 volts and R = 15 ohms?   A. 0.04 amps  B. 0.40 amps  C. 4.00 amps  D. 40.00 amps   This question is applicable to Cluster 3, Cluster 4, Cluster 5 .    58. A liter of water has a mass of   A. 1 kg B. 1 km  C. 1 ksec  D. 1 kW   This question is applicable to Cluster 2, Cluster 3, Cluster 4 . Trade Entrance Exam  Study Guide  Science   25 Classification: Protected A Trade Entrance Exam Study Guide     59. A fulcrum is used to support a   A. wedge.  B. ramp.  C. drawer.  D. lever.   This question is applicable to Cluster 2, Cluster 3, Cluster 4, Cluster 5 .    60. Which of the following does not affect the amount of heat a body will store?   A. Density.  B. Altitude.  C. Mass.  D. Both (a) and (c).   This question is applicable to Cluster 2, Cluster 3, Cluster 4, Cluster 5 .    61. If friction can cause heat to be released, letting a cord slide quickly through your hands will cause   A. your hands to feel cool.  B. your hands to become wet.  C. your hands to feel warmer.  D. your hands to feel stiff.   This question is applicable to Cluster 1, Cluster 2, Cluster 3, Cluster 4, Cluster 5 .    62. What causes a coasting vehicle in motion to eventually come to a stop?  A. Friction.  B. Expansion.  C. Contraction.  D. Potential Energy.   This question is applicable to Cluster 3, Cluster 4, Cluster 5 .    63. The chemical combination of two or more elements is known as a/an   A. isotope.  B. ion. C. compound.  D. catalyst.   This question is applicable to Cluster 1, Cluster 2, Cluster 3, Cluster 4, Cluster 5. Trade Entrance Exam  Study Guide  Science   26 Classification: Protected A Trade Entrance Exam Study Guide     64. The molecular composition of water is   A. 2 hydrogen atoms + 2 oxygen atoms.  B. 1 hydrogen atom + 1 oxygen atom.  C. 2 hydrogen atoms + 1 oxygen atom.  D. 2 oxygen atoms + 1 Hydrogen atom.   This question is applicable to Cluster 1, Cluster 2, Cluster 3, Cluster 4, Cluster 5.     65. If a gas in a closed space is compressed, it will   A. decrease in temperat ure. B. increase in temperature.  C. solidify.  D. move more slowly.   This question is applicable to Cluster 3, Cluster 4, Cluster 5.     66. The reason inventors have not been able to invent a machine that is 100% efficient is because of   A. gravity.  B. inertia.  C. technology.  D. friction.   This question is applicable to Cluster 2, Cluster 3, Cluster 4, Cluster 5.     67. How much work is done in 1 minute by a machine operating at 300 ft. lb./sec   A. 300 ft lb  B. 1,800 ft lb  C. 18,000 ft lb  D. 180,000 ft lb   This question is applicable to Cluster 2, Cluster 3, Cluster 4, Cluster 5.     68. The volume of a cube which is 5 meters per side is   A. 5 cubic meters.  B. 25 cubic meters.  C. 75 cubic meters.  D. 125 cubic meters.   This question is applicable to Cluster 2, Cluster 3, Cluster 4, Cluster 5. Trade Entrance Exam  Study Guide  Science   27 Classification: Protected A Trade Entrance Exam Study Guide      69. Refer to Diagram 020. Four pumps are shown in the diagram. Arrows show the direction the piston is being moved. Choose the only pump that will pump water.   A. B. C. D.   This question is applicable to Cluster 3, Cluster 4.     70. Refer to Diagram 014. Which diagram shows what happens when heat is applied to a bi -metal strip consisting of stainless steel on the top and brass on the bottom? (Brass has the higher expansion rate.)   A. B. C. D.   This question is applicable to Cluster 1 . Trade Entrance Exam  Diagram Book   33 Classification: Protected A  Trade Entrance Exam Answer Key   1. A 36. B 2. D 37. D 3. C 38. A 4 D 39. B 5 A 40. A 6. D 41. A 7. C 42. C 8. B 43. C 9. B 44. C 10. B 45. C 11. C 46. B 12. C 47. A 13. D 48. D 14. C 49. B 15. C 50. D 16. B 51. C 17. D 52. B 18. D 53. C 19. C 54. D 20. C 55. A 21. B 56. A 22. A 57. B 23. C 58. A 24. A 59. D 25. D 60. B 26. D 61. C 27. B 62 A 28. D 63 C 29. C 64 C 30. C 65. B 31. C 66. D 32. B 67. C 33. D 68. D 34. A 69. D 35. C 70. C. Each question must be unique and \n",
      "completely different from others. Format your response using the {\"1\": {\"mcq\": \"multiple choice question\", \"options\": {\"A.\": \"choice here\", \"B.\": \"choice here\", \"C.\": \"choice here\", \"D.\": \"choice here\"}, \"correct\": \"correct answer\"}, \"2\": {\"mcq\": \"multiple choice question\", \"options\": {\"A.\": \"choice here\", \"B.\": \"choice here\", \"C.\": \"choice here\", \"D.\": \"choice here\"}, \"correct\": \"correct answer\"}, \"3\": {\"mcq\": \"multiple choice question\", \"options\": {\"A.\": \"choice here\", \"B.\": \"choice here\", \"C.\": \"choice here\", \"D.\": \"choice here\"}, \"correct\": \"correct answer\"}} template as a guide. Ensure to include some questions that will involve calculations using formulas and also conversion \n",
      "between metric/imperial units. Some questions should not be straightforward and should require the trade participants to think critically. Ensure that you cross-check the Trade Entrance Exam  Study Guide  English and Reading Comprehension   20 Trade Entrance Exam Study Guide     NOTE: The answer key for all the following questions in this study guide can be found at the end of the study guide (page 33)    SECTION THREE: SCIENCE   Studying for the Science section of the trade entrance exam.   Each Entrance Exam includes a se ction for Science questions. The questions are designed to challenge the exam writer's ability to recall basic information, manipulate basic equations , and interpret basic scientific relationships. The types of questions asked and the difficulty will va ry with the exam for each cluster.     38. What does 6.4 liters of water equal in imperial gallons?   A. 1.408 gal.  B. 3.635 gal.  C. 5.628 gal.  D. 5.632 gal.   This question is applicable to Cluster 2, Cluster 4, Cluster 5 .    39. Convert 11.4 km to miles and express to two decimal places.   A. 5.70 mi.  B. 7.08 mi.  C. 9.79 mi.  D. 18.34 mi.   This question is applicable to Cluster 1, Cluster 2, Cluster 3, Cluster 4, Cluster 5 .    40. How many tablespoons are there in 49.74 ml?   A. 3.50 tbsp.  B. 10.49 tbsp.  C. 35.00 tbsp.  D. 706.81 tbsp.   This question is applicable to Cluster 1, Cluster 2, Cluster 3, Cluster 4, Cluster 5 . Trade Entrance Exam  Study Guide  Science   21 Classification: Protected A Trade Entrance Exam Study Guide     41. When a gas is heated it   A. expands.  B. contracts.  C. condenses.  D. solidifies.   This question is applicable to Cluster 1, Cluster 2, Cluster 3, Cluster 4, Cluster 5 .    42. Water at sea level heated to 100° Celsius would be   A. expanding.  B. just beginning to change to a solid.  C. starting to boil.  D. contracting.   This question is applicable to Cluster 1, Cluster 2, Cluster 3, Cluster 4, Cluster 5 .    43. An object floats in water because the weight of water displaced is   A. more than the object 's weight.  B. less than the object 's weight.  C. equal to the object 's weight.  D. not related to the object's weight.   This question is applicable to Cluster 1, Cluster 2, Cluster 3, Cluster 4, Cluster 5 .    44. The cooling effect of alcohol on the skin is the result of   A. sublimation of liquids.  B. condensation of liquids.  C. evaporation of liquids.  D. contraction of liquids.   This question is applicable to Cluster 1, Cluster 2, Cluster 3, Cluster 4, Cluster 5 .    45. Which of the following could be used to express density?   A. Grams per centimeter.  B. Grams per square centimeter.  C. Grams per cubic cen timeter.  D. Grams per kilometer.   This question is applicable to Cluster 1, Cluster 2, Cluster 3, Cluster 4, Cluster 5 . Trade Entrance Exam  Study Guide  Science   22 Classification: Protected A Trade Entrance Exam Study Guide    46. The pressure gauge on a bottle containing a gas would show a lower reading if the gas in the bottle was   A. to expand.  B. cooled.  C. heated.  D. a constant temperature.   This question is applicable to Cluster 1, Cluster 2, Cluster 3, Cluster 4, Cluster 5 .    47. Which state is matter in if it has a definite shape and a definite volume?   A. solid.  B. liquid.  C. gas. D. fluid.   This question is applicable to Cluster 1, Cluster 2, Cluster 3, Cluster 4, Cluster 5 .    48. The reason ice floats on water is because it   A. is a solid.  B. contains more air.  C. has less heat energy than water.  D. is less de nse than water.   This question is applicable to Cluster 1, Cluster 2, Cluster 3, Cluster 4, Cluster 5 .    49. Compared to an elevation of 1,000 meters, the air pressure at sea level is generally   A. lower.  B. higher.  C. the same.  D. lower in the summer.   This question is applicable to Cluster 1, Cluster 2, Cluster 3, Cluster 4, Cluster 5 .    50. Assuming equal volumes, the expansion of solids is usually   A. greater than liquids.  B. the same as liquids.  C. greater than gases  D. less than liquids.   This qu estion is applicable to Cluster 1, Cluster 2, Cluster 3, Cluster 4, Cluster 5 . Trade Entrance Exam  Study Guide  Science   23 Classification: Protected A Trade Entrance Exam Study Guide     51. Which of the following is true?   A. A liquid has no mass, shape, or volume.  B. A liquid will expand to fit the container it is in.  C. Liquids can not be easily compressed.  D. A liquid has mass but no shape or volume.   This question is applicable to Cluster 1, Cluster 2, Cluster 3, Cluster 4, Cluster 5 .    52. The ability to do work is known as   A. power.  B. energy.  C. force.  D. effort.   This question is applicable to Cluster 1, Cluster 2, Cluster 3, Cluster 4, Cluster 5 .    53. A parallel circuit is one in which   A. two batteries are included in the circuit.  B. current can flow through only one path.  C. current can flow through more than one path.  D. light bulbs must not be used.   This question is applicable to Cluster 3, Cluster 4, Cluster 5 .    54. A series circuit includes several lamps. When the light bulb from one lamp is removed the other lights will   A. stay lit.  B. stay lit and get brighter.  C. stay lit and get dimmer.  D. no longer be lit.   This question is applicable to Cluster 3, Cluster 4, Cluster 5 . Trade Entrance Exam  Study Guide  Science   24 Classification: Protected A Trade Entrance Exam Study Guide     55. Refer to diagram 003. To ensure safe climbing practice, the base of a straight lad der should be one meter out for every four meters of height to the point of support. If h = 8 m, what is the value of d?   A. 2 m B. 2.5 m  C. 3.2 m  D. 4 m   This question is applicable to Cluster 1, Cluster 2, Cluster 3, Cluster 4, Cluster 5 .    56. When trying to move a 150 kg rock using a 3 meter pry bar you can make the task easier by placing a smaller rock under the pry bar   A. 1.0 meter from the large rock.  B. 1.5 meters from the large rock.  C. 2.0 meters from the large rock.  D. 2.5 meters from the la rge rock.   This question is applicable to Cluster 1, Cluster 2, Cluster 3, Cluster 4, Cluster 5 .    57. Given the relationship E(voltage) = I(current) x R(resistance), what is the current in a circuit with E = 6 volts and R = 15 ohms?   A. 0.04 amps  B. 0.40 amps  C. 4.00 amps  D. 40.00 amps   This question is applicable to Cluster 3, Cluster 4, Cluster 5 .    58. A liter of water has a mass of   A. 1 kg B. 1 km  C. 1 ksec  D. 1 kW   This question is applicable to Cluster 2, Cluster 3, Cluster 4 . Trade Entrance Exam  Study Guide  Science   25 Classification: Protected A Trade Entrance Exam Study Guide     59. A fulcrum is used to support a   A. wedge.  B. ramp.  C. drawer.  D. lever.   This question is applicable to Cluster 2, Cluster 3, Cluster 4, Cluster 5 .    60. Which of the following does not affect the amount of heat a body will store?   A. Density.  B. Altitude.  C. Mass.  D. Both (a) and (c).   This question is applicable to Cluster 2, Cluster 3, Cluster 4, Cluster 5 .    61. If friction can cause heat to be released, letting a cord slide quickly through your hands will cause   A. your hands to feel cool.  B. your hands to become wet.  C. your hands to feel warmer.  D. your hands to feel stiff.   This question is applicable to Cluster 1, Cluster 2, Cluster 3, Cluster 4, Cluster 5 .    62. What causes a coasting vehicle in motion to eventually come to a stop?  A. Friction.  B. Expansion.  C. Contraction.  D. Potential Energy.   This question is applicable to Cluster 3, Cluster 4, Cluster 5 .    63. The chemical combination of two or more elements is known as a/an   A. isotope.  B. ion. C. compound.  D. catalyst.   This question is applicable to Cluster 1, Cluster 2, Cluster 3, Cluster 4, Cluster 5. Trade Entrance Exam  Study Guide  Science   26 Classification: Protected A Trade Entrance Exam Study Guide     64. The molecular composition of water is   A. 2 hydrogen atoms + 2 oxygen atoms.  B. 1 hydrogen atom + 1 oxygen atom.  C. 2 hydrogen atoms + 1 oxygen atom.  D. 2 oxygen atoms + 1 Hydrogen atom.   This question is applicable to Cluster 1, Cluster 2, Cluster 3, Cluster 4, Cluster 5.     65. If a gas in a closed space is compressed, it will   A. decrease in temperat ure. B. increase in temperature.  C. solidify.  D. move more slowly.   This question is applicable to Cluster 3, Cluster 4, Cluster 5.     66. The reason inventors have not been able to invent a machine that is 100% efficient is because of   A. gravity.  B. inertia.  C. technology.  D. friction.   This question is applicable to Cluster 2, Cluster 3, Cluster 4, Cluster 5.     67. How much work is done in 1 minute by a machine operating at 300 ft. lb./sec   A. 300 ft lb  B. 1,800 ft lb  C. 18,000 ft lb  D. 180,000 ft lb   This question is applicable to Cluster 2, Cluster 3, Cluster 4, Cluster 5.     68. The volume of a cube which is 5 meters per side is   A. 5 cubic meters.  B. 25 cubic meters.  C. 75 cubic meters.  D. 125 cubic meters.   This question is applicable to Cluster 2, Cluster 3, Cluster 4, Cluster 5. Trade Entrance Exam  Study Guide  Science   27 Classification: Protected A Trade Entrance Exam Study Guide      69. Refer to Diagram 020. Four pumps are shown in the diagram. Arrows show the direction the piston is being moved. Choose the only pump that will pump water.   A. B. C. D.   This question is applicable to Cluster 3, Cluster 4.     70. Refer to Diagram 014. Which diagram shows what happens when heat is applied to a bi -metal strip consisting of stainless steel on the top and brass on the bottom? (Brass has the higher expansion rate.)   A. B. C. D.   This question is applicable to Cluster 1 . Trade Entrance Exam  Diagram Book   33 Classification: Protected A  Trade Entrance Exam Answer Key   1. A 36. B 2. D 37. D 3. C 38. A 4 D 39. B 5 A 40. A 6. D 41. A 7. C 42. C 8. B 43. C 9. B 44. C 10. B 45. C 11. C 46. B 12. C 47. A 13. D 48. D 14. C 49. B 15. C 50. D 16. B 51. C 17. D 52. B 18. D 53. C 19. C 54. D 20. C 55. A 21. B 56. A 22. A 57. B 23. C 58. A 24. A 59. D 25. D 60. B 26. D 61. C 27. B 62 A 28. D 63 C 29. C 64 C 30. C 65. B 31. C 66. D 32. B 67. C 33. D 68. D 34. A 69. D 35. C 70. C and provide \n",
      "the correct information for each question and the exact answer for each question. Use the {\"1\": {\"mcq\": \"multiple choice question\", \"options\": {\"A.\": \"choice here\", \"B.\": \"choice here\", \"C.\": \"choice here\", \"D.\": \"choice here\"}, \"correct\": \"correct answer\"}, \"2\": {\"mcq\": \"multiple choice question\", \"options\": {\"A.\": \"choice here\", \"B.\": \"choice here\", \"C.\": \"choice here\", \"D.\": \"choice here\"}, \"correct\": \"correct answer\"}, \"3\": {\"mcq\": \"multiple choice question\", \"options\": {\"A.\": \"choice here\", \"B.\": \"choice here\", \"C.\": \"choice here\", \"D.\": \"choice here\"}, \"correct\": \"correct answer\"}} template to format your response. The total number of quesions must be 20. Some examples \n",
      "of calculation questions and their corresponding answers are provided in the below:\n",
      "\n",
      "**Specific Requirements:**\n",
      "\n",
      "1. **Theory and Conceptual Questions**: Include questions that test theoretical knowledge and conceptual understanding.\n",
      "2. **Critical Thinking**: Some questions should not be straightforward and should require the trade participants to think critically.\n",
      "3. **Accuracy**: Ensure that you cross-check the Trade Entrance Exam  Study Guide  English and Reading Comprehension   20 Trade Entrance Exam Study Guide     NOTE: The answer key for all the following questions in this study guide can be found at the end of the study guide (page 33)    SECTION THREE: SCIENCE   Studying for the Science section of the trade entrance exam.   Each Entrance Exam includes a se ction for Science questions. The questions are designed to challenge the exam writer's ability to recall basic information, manipulate basic equations , and interpret basic scientific relationships. The types of questions asked and the difficulty will va ry with the exam for each cluster.     38. What does 6.4 liters of water equal in imperial gallons?   A. 1.408 gal.  B. 3.635 gal.  C. 5.628 gal.  D. 5.632 gal.   This question is applicable to Cluster 2, Cluster 4, Cluster 5 .    39. Convert 11.4 km to miles and express to two decimal places.   A. 5.70 mi.  B. 7.08 mi.  C. 9.79 mi.  D. 18.34 mi.   This question is applicable to Cluster 1, Cluster 2, Cluster 3, Cluster 4, Cluster 5 .    40. How many tablespoons are there in 49.74 ml?   A. 3.50 tbsp.  B. 10.49 tbsp.  C. 35.00 tbsp.  D. 706.81 tbsp.   This question is applicable to Cluster 1, Cluster 2, Cluster 3, Cluster 4, Cluster 5 . Trade Entrance Exam  Study Guide  Science   21 Classification: Protected A Trade Entrance Exam Study Guide     41. When a gas is heated it   A. expands.  B. contracts.  C. condenses.  D. solidifies.   This question is applicable to Cluster 1, Cluster 2, Cluster 3, Cluster 4, Cluster 5 .    42. Water at sea level heated to 100° Celsius would be   A. expanding.  B. just beginning to change to a solid.  C. starting to boil.  D. contracting.   This question is applicable to Cluster 1, Cluster 2, Cluster 3, Cluster 4, Cluster 5 .    43. An object floats in water because the weight of water displaced is   A. more than the object 's weight.  B. less than the object 's weight.  C. equal to the object 's weight.  D. not related to the object's weight.   This question is applicable to Cluster 1, Cluster 2, Cluster 3, Cluster 4, Cluster 5 .    44. The cooling effect of alcohol on the skin is the result of   A. sublimation of liquids.  B. condensation of liquids.  C. evaporation of liquids.  D. contraction of liquids.   This question is applicable to Cluster 1, Cluster 2, Cluster 3, Cluster 4, Cluster 5 .    45. Which of the following could be used to express density?   A. Grams per centimeter.  B. Grams per square centimeter.  C. Grams per cubic cen timeter.  D. Grams per kilometer.   This question is applicable to Cluster 1, Cluster 2, Cluster 3, Cluster 4, Cluster 5 . Trade Entrance Exam  Study Guide  Science   22 Classification: Protected A Trade Entrance Exam Study Guide    46. The pressure gauge on a bottle containing a gas would show a lower reading if the gas in the bottle was   A. to expand.  B. cooled.  C. heated.  D. a constant temperature.   This question is applicable to Cluster 1, Cluster 2, Cluster 3, Cluster 4, Cluster 5 .    47. Which state is matter in if it has a definite shape and a definite volume?   A. solid.  B. liquid.  C. gas. D. fluid.   This question is applicable to Cluster 1, Cluster 2, Cluster 3, Cluster 4, Cluster 5 .    48. The reason ice floats on water is because it   A. is a solid.  B. contains more air.  C. has less heat energy than water.  D. is less de nse than water.   This question is applicable to Cluster 1, Cluster 2, Cluster 3, Cluster 4, Cluster 5 .    49. Compared to an elevation of 1,000 meters, the air pressure at sea level is generally   A. lower.  B. higher.  C. the same.  D. lower in the summer.   This question is applicable to Cluster 1, Cluster 2, Cluster 3, Cluster 4, Cluster 5 .    50. Assuming equal volumes, the expansion of solids is usually   A. greater than liquids.  B. the same as liquids.  C. greater than gases  D. less than liquids.   This qu estion is applicable to Cluster 1, Cluster 2, Cluster 3, Cluster 4, Cluster 5 . Trade Entrance Exam  Study Guide  Science   23 Classification: Protected A Trade Entrance Exam Study Guide     51. Which of the following is true?   A. A liquid has no mass, shape, or volume.  B. A liquid will expand to fit the container it is in.  C. Liquids can not be easily compressed.  D. A liquid has mass but no shape or volume.   This question is applicable to Cluster 1, Cluster 2, Cluster 3, Cluster 4, Cluster 5 .    52. The ability to do work is known as   A. power.  B. energy.  C. force.  D. effort.   This question is applicable to Cluster 1, Cluster 2, Cluster 3, Cluster 4, Cluster 5 .    53. A parallel circuit is one in which   A. two batteries are included in the circuit.  B. current can flow through only one path.  C. current can flow through more than one path.  D. light bulbs must not be used.   This question is applicable to Cluster 3, Cluster 4, Cluster 5 .    54. A series circuit includes several lamps. When the light bulb from one lamp is removed the other lights will   A. stay lit.  B. stay lit and get brighter.  C. stay lit and get dimmer.  D. no longer be lit.   This question is applicable to Cluster 3, Cluster 4, Cluster 5 . Trade Entrance Exam  Study Guide  Science   24 Classification: Protected A Trade Entrance Exam Study Guide     55. Refer to diagram 003. To ensure safe climbing practice, the base of a straight lad der should be one meter out for every four meters of height to the point of support. If h = 8 m, what is the value of d?   A. 2 m B. 2.5 m  C. 3.2 m  D. 4 m   This question is applicable to Cluster 1, Cluster 2, Cluster 3, Cluster 4, Cluster 5 .    56. When trying to move a 150 kg rock using a 3 meter pry bar you can make the task easier by placing a smaller rock under the pry bar   A. 1.0 meter from the large rock.  B. 1.5 meters from the large rock.  C. 2.0 meters from the large rock.  D. 2.5 meters from the la rge rock.   This question is applicable to Cluster 1, Cluster 2, Cluster 3, Cluster 4, Cluster 5 .    57. Given the relationship E(voltage) = I(current) x R(resistance), what is the current in a circuit with E = 6 volts and R = 15 ohms?   A. 0.04 amps  B. 0.40 amps  C. 4.00 amps  D. 40.00 amps   This question is applicable to Cluster 3, Cluster 4, Cluster 5 .    58. A liter of water has a mass of   A. 1 kg B. 1 km  C. 1 ksec  D. 1 kW   This question is applicable to Cluster 2, Cluster 3, Cluster 4 . Trade Entrance Exam  Study Guide  Science   25 Classification: Protected A Trade Entrance Exam Study Guide     59. A fulcrum is used to support a   A. wedge.  B. ramp.  C. drawer.  D. lever.   This question is applicable to Cluster 2, Cluster 3, Cluster 4, Cluster 5 .    60. Which of the following does not affect the amount of heat a body will store?   A. Density.  B. Altitude.  C. Mass.  D. Both (a) and (c).   This question is applicable to Cluster 2, Cluster 3, Cluster 4, Cluster 5 .    61. If friction can cause heat to be released, letting a cord slide quickly through your hands will cause   A. your hands to feel cool.  B. your hands to become wet.  C. your hands to feel warmer.  D. your hands to feel stiff.   This question is applicable to Cluster 1, Cluster 2, Cluster 3, Cluster 4, Cluster 5 .    62. What causes a coasting vehicle in motion to eventually come to a stop?  A. Friction.  B. Expansion.  C. Contraction.  D. Potential Energy.   This question is applicable to Cluster 3, Cluster 4, Cluster 5 .    63. The chemical combination of two or more elements is known as a/an   A. isotope.  B. ion. C. compound.  D. catalyst.   This question is applicable to Cluster 1, Cluster 2, Cluster 3, Cluster 4, Cluster 5. Trade Entrance Exam  Study Guide  Science   26 Classification: Protected A Trade Entrance Exam Study Guide     64. The molecular composition of water is   A. 2 hydrogen atoms + 2 oxygen atoms.  B. 1 hydrogen atom + 1 oxygen atom.  C. 2 hydrogen atoms + 1 oxygen atom.  D. 2 oxygen atoms + 1 Hydrogen atom.   This question is applicable to Cluster 1, Cluster 2, Cluster 3, Cluster 4, Cluster 5.     65. If a gas in a closed space is compressed, it will   A. decrease in temperat ure. B. increase in temperature.  C. solidify.  D. move more slowly.   This question is applicable to Cluster 3, Cluster 4, Cluster 5.     66. The reason inventors have not been able to invent a machine that is 100% efficient is because of   A. gravity.  B. inertia.  C. technology.  D. friction.   This question is applicable to Cluster 2, Cluster 3, Cluster 4, Cluster 5.     67. How much work is done in 1 minute by a machine operating at 300 ft. lb./sec   A. 300 ft lb  B. 1,800 ft lb  C. 18,000 ft lb  D. 180,000 ft lb   This question is applicable to Cluster 2, Cluster 3, Cluster 4, Cluster 5.     68. The volume of a cube which is 5 meters per side is   A. 5 cubic meters.  B. 25 cubic meters.  C. 75 cubic meters.  D. 125 cubic meters.   This question is applicable to Cluster 2, Cluster 3, Cluster 4, Cluster 5. Trade Entrance Exam  Study Guide  Science   27 Classification: Protected A Trade Entrance Exam Study Guide      69. Refer to Diagram 020. Four pumps are shown in the diagram. Arrows show the direction the piston is being moved. Choose the only pump that will pump water.   A. B. C. D.   This question is applicable to Cluster 3, Cluster 4.     70. Refer to Diagram 014. Which diagram shows what happens when heat is applied to a bi -metal strip consisting of stainless steel on the top and brass on the bottom? (Brass has the higher expansion rate.)   A. B. C. D.   This question is applicable to Cluster 1 . Trade Entrance Exam  Diagram Book   33 Classification: Protected A  Trade Entrance Exam Answer Key   1. A 36. B 2. D 37. D 3. C 38. A 4 D 39. B 5 A 40. A 6. D 41. A 7. C 42. C 8. B 43. C 9. B 44. C 10. B 45. C 11. C 46. B 12. C 47. A 13. D 48. D 14. C 49. B 15. C 50. D 16. B 51. C 17. D 52. B 18. D 53. C 19. C 54. D 20. C 55. A 21. B 56. A 22. A 57. B 23. C 58. A 24. A 59. D 25. D 60. B 26. D 61. C 27. B 62 A 28. D 63 C 29. C 64 C 30. C 65. B 31. C 66. D 32. B 67. C 33. D 68. D 34. A 69. D 35. C 70. C and provide the correct information for each question and the exact answer for each question.\n",
      "4. **Diversity**: Questions should cover a wide range of topics within the provided vocabulary handout to ensure a comprehensive assessment.\n",
      "5. **Unique Questions**: Each question must be unique and completely different from others and also different from the Trade Entrance Exam  Study Guide  English and Reading Comprehension   20 Trade Entrance Exam Study Guide     NOTE: The answer key for all the following questions in this study guide can be found at the end of the study guide (page 33)    SECTION THREE: SCIENCE   Studying for the Science section of the trade entrance exam.   Each Entrance Exam includes a se ction for Science questions. The questions are designed to challenge the exam writer's ability to recall basic information, manipulate basic equations , and interpret basic scientific relationships. The types of questions asked and the difficulty will va ry with the exam for each cluster.     38. What does 6.4 liters of water equal in imperial gallons?   A. 1.408 gal.  B. 3.635 gal.  C. 5.628 gal.  D. 5.632 gal.   This question is applicable to Cluster 2, Cluster 4, Cluster 5 .    39. Convert 11.4 km to miles and express to two decimal places.   A. 5.70 mi.  B. 7.08 mi.  C. 9.79 mi.  D. 18.34 mi.   This question is applicable to Cluster 1, Cluster 2, Cluster 3, Cluster 4, Cluster 5 .    40. How many tablespoons are there in 49.74 ml?   A. 3.50 tbsp.  B. 10.49 tbsp.  C. 35.00 tbsp.  D. 706.81 tbsp.   This question is applicable to Cluster 1, Cluster 2, Cluster 3, Cluster 4, Cluster 5 . Trade Entrance Exam  Study Guide  Science   21 Classification: Protected A Trade Entrance Exam Study Guide     41. When a gas is heated it   A. expands.  B. contracts.  C. condenses.  D. solidifies.   This question is applicable to Cluster 1, Cluster 2, Cluster 3, Cluster 4, Cluster 5 .    42. Water at sea level heated to 100° Celsius would be   A. expanding.  B. just beginning to change to a solid.  C. starting to boil.  D. contracting.   This question is applicable to Cluster 1, Cluster 2, Cluster 3, Cluster 4, Cluster 5 .    43. An object floats in water because the weight of water displaced is   A. more than the object 's weight.  B. less than the object 's weight.  C. equal to the object 's weight.  D. not related to the object's weight.   This question is applicable to Cluster 1, Cluster 2, Cluster 3, Cluster 4, Cluster 5 .    44. The cooling effect of alcohol on the skin is the result of   A. sublimation of liquids.  B. condensation of liquids.  C. evaporation of liquids.  D. contraction of liquids.   This question is applicable to Cluster 1, Cluster 2, Cluster 3, Cluster 4, Cluster 5 .    45. Which of the following could be used to express density?   A. Grams per centimeter.  B. Grams per square centimeter.  C. Grams per cubic cen timeter.  D. Grams per kilometer.   This question is applicable to Cluster 1, Cluster 2, Cluster 3, Cluster 4, Cluster 5 . Trade Entrance Exam  Study Guide  Science   22 Classification: Protected A Trade Entrance Exam Study Guide    46. The pressure gauge on a bottle containing a gas would show a lower reading if the gas in the bottle was   A. to expand.  B. cooled.  C. heated.  D. a constant temperature.   This question is applicable to Cluster 1, Cluster 2, Cluster 3, Cluster 4, Cluster 5 .    47. Which state is matter in if it has a definite shape and a definite volume?   A. solid.  B. liquid.  C. gas. D. fluid.   This question is applicable to Cluster 1, Cluster 2, Cluster 3, Cluster 4, Cluster 5 .    48. The reason ice floats on water is because it   A. is a solid.  B. contains more air.  C. has less heat energy than water.  D. is less de nse than water.   This question is applicable to Cluster 1, Cluster 2, Cluster 3, Cluster 4, Cluster 5 .    49. Compared to an elevation of 1,000 meters, the air pressure at sea level is generally   A. lower.  B. higher.  C. the same.  D. lower in the summer.   This question is applicable to Cluster 1, Cluster 2, Cluster 3, Cluster 4, Cluster 5 .    50. Assuming equal volumes, the expansion of solids is usually   A. greater than liquids.  B. the same as liquids.  C. greater than gases  D. less than liquids.   This qu estion is applicable to Cluster 1, Cluster 2, Cluster 3, Cluster 4, Cluster 5 . Trade Entrance Exam  Study Guide  Science   23 Classification: Protected A Trade Entrance Exam Study Guide     51. Which of the following is true?   A. A liquid has no mass, shape, or volume.  B. A liquid will expand to fit the container it is in.  C. Liquids can not be easily compressed.  D. A liquid has mass but no shape or volume.   This question is applicable to Cluster 1, Cluster 2, Cluster 3, Cluster 4, Cluster 5 .    52. The ability to do work is known as   A. power.  B. energy.  C. force.  D. effort.   This question is applicable to Cluster 1, Cluster 2, Cluster 3, Cluster 4, Cluster 5 .    53. A parallel circuit is one in which   A. two batteries are included in the circuit.  B. current can flow through only one path.  C. current can flow through more than one path.  D. light bulbs must not be used.   This question is applicable to Cluster 3, Cluster 4, Cluster 5 .    54. A series circuit includes several lamps. When the light bulb from one lamp is removed the other lights will   A. stay lit.  B. stay lit and get brighter.  C. stay lit and get dimmer.  D. no longer be lit.   This question is applicable to Cluster 3, Cluster 4, Cluster 5 . Trade Entrance Exam  Study Guide  Science   24 Classification: Protected A Trade Entrance Exam Study Guide     55. Refer to diagram 003. To ensure safe climbing practice, the base of a straight lad der should be one meter out for every four meters of height to the point of support. If h = 8 m, what is the value of d?   A. 2 m B. 2.5 m  C. 3.2 m  D. 4 m   This question is applicable to Cluster 1, Cluster 2, Cluster 3, Cluster 4, Cluster 5 .    56. When trying to move a 150 kg rock using a 3 meter pry bar you can make the task easier by placing a smaller rock under the pry bar   A. 1.0 meter from the large rock.  B. 1.5 meters from the large rock.  C. 2.0 meters from the large rock.  D. 2.5 meters from the la rge rock.   This question is applicable to Cluster 1, Cluster 2, Cluster 3, Cluster 4, Cluster 5 .    57. Given the relationship E(voltage) = I(current) x R(resistance), what is the current in a circuit with E = 6 volts and R = 15 ohms?   A. 0.04 amps  B. 0.40 amps  C. 4.00 amps  D. 40.00 amps   This question is applicable to Cluster 3, Cluster 4, Cluster 5 .    58. A liter of water has a mass of   A. 1 kg B. 1 km  C. 1 ksec  D. 1 kW   This question is applicable to Cluster 2, Cluster 3, Cluster 4 . Trade Entrance Exam  Study Guide  Science   25 Classification: Protected A Trade Entrance Exam Study Guide     59. A fulcrum is used to support a   A. wedge.  B. ramp.  C. drawer.  D. lever.   This question is applicable to Cluster 2, Cluster 3, Cluster 4, Cluster 5 .    60. Which of the following does not affect the amount of heat a body will store?   A. Density.  B. Altitude.  C. Mass.  D. Both (a) and (c).   This question is applicable to Cluster 2, Cluster 3, Cluster 4, Cluster 5 .    61. If friction can cause heat to be released, letting a cord slide quickly through your hands will cause   A. your hands to feel cool.  B. your hands to become wet.  C. your hands to feel warmer.  D. your hands to feel stiff.   This question is applicable to Cluster 1, Cluster 2, Cluster 3, Cluster 4, Cluster 5 .    62. What causes a coasting vehicle in motion to eventually come to a stop?  A. Friction.  B. Expansion.  C. Contraction.  D. Potential Energy.   This question is applicable to Cluster 3, Cluster 4, Cluster 5 .    63. The chemical combination of two or more elements is known as a/an   A. isotope.  B. ion. C. compound.  D. catalyst.   This question is applicable to Cluster 1, Cluster 2, Cluster 3, Cluster 4, Cluster 5. Trade Entrance Exam  Study Guide  Science   26 Classification: Protected A Trade Entrance Exam Study Guide     64. The molecular composition of water is   A. 2 hydrogen atoms + 2 oxygen atoms.  B. 1 hydrogen atom + 1 oxygen atom.  C. 2 hydrogen atoms + 1 oxygen atom.  D. 2 oxygen atoms + 1 Hydrogen atom.   This question is applicable to Cluster 1, Cluster 2, Cluster 3, Cluster 4, Cluster 5.     65. If a gas in a closed space is compressed, it will   A. decrease in temperat ure. B. increase in temperature.  C. solidify.  D. move more slowly.   This question is applicable to Cluster 3, Cluster 4, Cluster 5.     66. The reason inventors have not been able to invent a machine that is 100% efficient is because of   A. gravity.  B. inertia.  C. technology.  D. friction.   This question is applicable to Cluster 2, Cluster 3, Cluster 4, Cluster 5.     67. How much work is done in 1 minute by a machine operating at 300 ft. lb./sec   A. 300 ft lb  B. 1,800 ft lb  C. 18,000 ft lb  D. 180,000 ft lb   This question is applicable to Cluster 2, Cluster 3, Cluster 4, Cluster 5.     68. The volume of a cube which is 5 meters per side is   A. 5 cubic meters.  B. 25 cubic meters.  C. 75 cubic meters.  D. 125 cubic meters.   This question is applicable to Cluster 2, Cluster 3, Cluster 4, Cluster 5. Trade Entrance Exam  Study Guide  Science   27 Classification: Protected A Trade Entrance Exam Study Guide      69. Refer to Diagram 020. Four pumps are shown in the diagram. Arrows show the direction the piston is being moved. Choose the only pump that will pump water.   A. B. C. D.   This question is applicable to Cluster 3, Cluster 4.     70. Refer to Diagram 014. Which diagram shows what happens when heat is applied to a bi -metal strip consisting of stainless steel on the top and brass on the bottom? (Brass has the higher expansion rate.)   A. B. C. D.   This question is applicable to Cluster 1 . Trade Entrance Exam  Diagram Book   33 Classification: Protected A  Trade Entrance Exam Answer Key   1. A 36. B 2. D 37. D 3. C 38. A 4 D 39. B 5 A 40. A 6. D 41. A 7. C 42. C 8. B 43. C 9. B 44. C 10. B 45. C 11. C 46. B 12. C 47. A 13. D 48. D 14. C 49. B 15. C 50. D 16. B 51. C 17. D 52. B 18. D 53. C 19. C 54. D 20. C 55. A 21. B 56. A 22. A 57. B 23. C 58. A 24. A 59. D 25. D 60. B 26. D 61. C 27. B 62 A 28. D 63 C 29. C 64 C 30. C 65. B 31. C 66. D 32. B 67. C 33. D 68. D 34. A 69. D 35. C 70. C.\n",
      "\n",
      "Ensure that all your generated questions follow the {\"1\": {\"mcq\": \"multiple choice question\", \"options\": {\"A.\": \"choice here\", \"B.\": \"choice here\", \"C.\": \"choice here\", \"D.\": \"choice here\"}, \"correct\": \"correct answer\"}, \"2\": {\"mcq\": \"multiple choice question\", \"options\": {\"A.\": \"choice here\", \"B.\": \"choice here\", \"C.\": \"choice here\", \"D.\": \"choice here\"}, \"correct\": \"correct answer\"}, \"3\": {\"mcq\": \"multiple choice question\", \"options\": {\"A.\": \"choice here\", \"B.\": \"choice here\", \"C.\": \"choice here\", \"D.\": \"choice here\"}, \"correct\": \"correct answer\"}} structure exactly.\n",
      "\u001b[0m\n",
      "\n",
      "\u001b[1m> Finished chain.\u001b[0m\n",
      "\n",
      "\n",
      "\u001b[1m> Entering new LLMChain chain...\u001b[0m\n",
      "Prompt after formatting:\n",
      "\u001b[32;1m\u001b[1;3m\n",
      "This is the tone in which you are to respond to the assigned task: You are an expert exam reviewer with 20 years of experience working with the Apprenticeship and Industry Training (AIT) \n",
      "organization in Alberta, Canada. Your job is to ensure that the exam questions meet the required standard for pre-apprenticeship entrance exams. You are assigned to check for the correctness \n",
      "of each question, cross-check the answer, and carefully fact-check the information contained in the generated questions.\n",
      "\n",
      "**Task Overview:**\n",
      "\n",
      "Given some multiple-choice questions recently generated, you must:\n",
      "1. Evaluate the complexity of each question and provide a complete analysis of the {\"1\": {\"mcq\": \"What is the process called when a gas changes into a liquid?\", \"options\": {\"A. Condensation\": \"Condensation\", \"B. Vaporization\": \"Vaporization\", \"C. Sublimation\": \"Sublimation\", \"D. Melting\": \"Melting\"}, \"correct\": \"A. Condensation\"}, \"2\": {\"mcq\": \"Which of the following is the SI unit of force?\", \"options\": {\"A. Newton\": \"Newton\", \"B. Joule\": \"Joule\", \"C. Watt\": \"Watt\", \"D. Ohm\": \"Ohm\"}, \"correct\": \"A. Newton\"}, \"3\": {\"mcq\": \"What is the formula to calculate density?\", \"options\": {\"A. Density = Mass / Volume\": \"Density = Mass / Volume\", \"B. Density = Volume / Mass\": \"Density = Volume / Mass\", \"C. Density = Mass * Volume\": \"Density = Mass * Volume\", \"D. Density = Mass + Volume\": \"Density = Mass + Volume\"}, \"correct\": \"A. Density = Mass / Volume\"}, \"4\": {\"mcq\": \"Which of the following is a non-metallic element?\", \"options\": {\"A. Iron\": \"Iron\", \"B. Copper\": \"Copper\", \"C. Oxygen\": \"Oxygen\", \"D. Silver\": \"Silver\"}, \"correct\": \"C. Oxygen\"}, \"5\": {\"mcq\": \"What is the force that resists the motion of an object through a fluid called?\", \"options\": {\"A. Inertia\": \"Inertia\", \"B. Friction\": \"Friction\", \"C. Gravity\": \"Gravity\", \"D. Tension\": \"Tension\"}, \"correct\": \"B. Friction\"}, \"6\": {\"mcq\": \"Which of the following is a renewable source of energy?\", \"options\": {\"A. Coal\": \"Coal\", \"B. Natural Gas\": \"Natural Gas\", \"C. Solar Power. Use a maximum of 100 words for the complexity analysis.\n",
      "2. Ensure that the questions include a balanced mix of calculation questions and theoretical/conceptual questions.\n",
      "4. Check for the accuracy of the questions, correctness of formulas, and units used.\n",
      "5. Verify the correctness of each provided answer.\n",
      "\n",
      "**If the quiz does not meet the required standard:**\n",
      "\n",
      "- Identify the questions that need to be changed.\n",
      "- Generate new questions to replace the incorrect ones, ensuring they follow the existing structure and meet the specified requirements.\n",
      "- Ensure the new questions are unique and diverse, covering a range of topics within the provided vocabulary handout.\n",
      "\n",
      "**Evaluation Criteria:**\n",
      "\n",
      "- Accuracy: Ensure all questions and answers are factually correct.\n",
      "- Complexity: Analyze and ensure the questions are appropriately challenging.\n",
      "- Calculation: Verify the inclusion and correctness of calculation-based questions.\n",
      "\n",
      "**Quiz_MCQs:**\n",
      "{\"1\": {\"mcq\": \"What is the process called when a gas changes into a liquid?\", \"options\": {\"A. Condensation\": \"Condensation\", \"B. Vaporization\": \"Vaporization\", \"C. Sublimation\": \"Sublimation\", \"D. Melting\": \"Melting\"}, \"correct\": \"A. Condensation\"}, \"2\": {\"mcq\": \"Which of the following is the SI unit of force?\", \"options\": {\"A. Newton\": \"Newton\", \"B. Joule\": \"Joule\", \"C. Watt\": \"Watt\", \"D. Ohm\": \"Ohm\"}, \"correct\": \"A. Newton\"}, \"3\": {\"mcq\": \"What is the formula to calculate density?\", \"options\": {\"A. Density = Mass / Volume\": \"Density = Mass / Volume\", \"B. Density = Volume / Mass\": \"Density = Volume / Mass\", \"C. Density = Mass * Volume\": \"Density = Mass * Volume\", \"D. Density = Mass + Volume\": \"Density = Mass + Volume\"}, \"correct\": \"A. Density = Mass / Volume\"}, \"4\": {\"mcq\": \"Which of the following is a non-metallic element?\", \"options\": {\"A. Iron\": \"Iron\", \"B. Copper\": \"Copper\", \"C. Oxygen\": \"Oxygen\", \"D. Silver\": \"Silver\"}, \"correct\": \"C. Oxygen\"}, \"5\": {\"mcq\": \"What is the force that resists the motion of an object through a fluid called?\", \"options\": {\"A. Inertia\": \"Inertia\", \"B. Friction\": \"Friction\", \"C. Gravity\": \"Gravity\", \"D. Tension\": \"Tension\"}, \"correct\": \"B. Friction\"}, \"6\": {\"mcq\": \"Which of the following is a renewable source of energy?\", \"options\": {\"A. Coal\": \"Coal\", \"B. Natural Gas\": \"Natural Gas\", \"C. Solar Power\n",
      "\n",
      "**Check from an Expert Reviewer:**\n",
      "\u001b[0m\n",
      "\n",
      "\u001b[1m> Finished chain.\u001b[0m\n",
      "\n",
      "\u001b[1m> Finished chain.\u001b[0m\n"
     ]
    }
   ],
   "source": [
    "with get_openai_callback() as cb:\n",
    "    response = generate_evaluate_chain(\n",
    "        {\n",
    "            \"sample_questions\": sample_questions,\n",
    "            \"number\": 20,\n",
    "            \"response_json\": json.dumps(RESPONSE_JSON)\n",
    "        }\n",
    "    )"
   ]
  },
  {
   "cell_type": "code",
   "execution_count": 32,
   "metadata": {},
   "outputs": [
    {
     "name": "stdout",
     "output_type": "stream",
     "text": [
      "Total Tokens: 17927\n",
      "Prompt Tokens: 17134\n",
      "Completion Tokens: 793\n",
      "Total Cost: 0.027287\n"
     ]
    }
   ],
   "source": [
    "print(f\"Total Tokens: {cb.total_tokens}\")\n",
    "print(f\"Prompt Tokens: {cb.prompt_tokens}\")\n",
    "print(f\"Completion Tokens: {cb.completion_tokens}\")\n",
    "print(f\"Total Cost: {cb.total_cost}\")"
   ]
  },
  {
   "cell_type": "code",
   "execution_count": 33,
   "metadata": {},
   "outputs": [
    {
     "data": {
      "text/plain": [
       "{'sample_questions': \"Trade Entrance Exam  Study Guide  English and Reading Comprehension   20 Trade Entrance Exam Study Guide     NOTE: The answer key for all the following questions in this study guide can be found at the end of the study guide (page 33)    SECTION THREE: SCIENCE   Studying for the Science section of the trade entrance exam.   Each Entrance Exam includes a se ction for Science questions. The questions are designed to challenge the exam writer's ability to recall basic information, manipulate basic equations , and interpret basic scientific relationships. The types of questions asked and the difficulty will va ry with the exam for each cluster.     38. What does 6.4 liters of water equal in imperial gallons?   A. 1.408 gal.  B. 3.635 gal.  C. 5.628 gal.  D. 5.632 gal.   This question is applicable to Cluster 2, Cluster 4, Cluster 5 .    39. Convert 11.4 km to miles and express to two decimal places.   A. 5.70 mi.  B. 7.08 mi.  C. 9.79 mi.  D. 18.34 mi.   This question is applicable to Cluster 1, Cluster 2, Cluster 3, Cluster 4, Cluster 5 .    40. How many tablespoons are there in 49.74 ml?   A. 3.50 tbsp.  B. 10.49 tbsp.  C. 35.00 tbsp.  D. 706.81 tbsp.   This question is applicable to Cluster 1, Cluster 2, Cluster 3, Cluster 4, Cluster 5 . Trade Entrance Exam  Study Guide  Science   21 Classification: Protected A Trade Entrance Exam Study Guide     41. When a gas is heated it   A. expands.  B. contracts.  C. condenses.  D. solidifies.   This question is applicable to Cluster 1, Cluster 2, Cluster 3, Cluster 4, Cluster 5 .    42. Water at sea level heated to 100° Celsius would be   A. expanding.  B. just beginning to change to a solid.  C. starting to boil.  D. contracting.   This question is applicable to Cluster 1, Cluster 2, Cluster 3, Cluster 4, Cluster 5 .    43. An object floats in water because the weight of water displaced is   A. more than the object 's weight.  B. less than the object 's weight.  C. equal to the object 's weight.  D. not related to the object's weight.   This question is applicable to Cluster 1, Cluster 2, Cluster 3, Cluster 4, Cluster 5 .    44. The cooling effect of alcohol on the skin is the result of   A. sublimation of liquids.  B. condensation of liquids.  C. evaporation of liquids.  D. contraction of liquids.   This question is applicable to Cluster 1, Cluster 2, Cluster 3, Cluster 4, Cluster 5 .    45. Which of the following could be used to express density?   A. Grams per centimeter.  B. Grams per square centimeter.  C. Grams per cubic cen timeter.  D. Grams per kilometer.   This question is applicable to Cluster 1, Cluster 2, Cluster 3, Cluster 4, Cluster 5 . Trade Entrance Exam  Study Guide  Science   22 Classification: Protected A Trade Entrance Exam Study Guide    46. The pressure gauge on a bottle containing a gas would show a lower reading if the gas in the bottle was   A. to expand.  B. cooled.  C. heated.  D. a constant temperature.   This question is applicable to Cluster 1, Cluster 2, Cluster 3, Cluster 4, Cluster 5 .    47. Which state is matter in if it has a definite shape and a definite volume?   A. solid.  B. liquid.  C. gas. D. fluid.   This question is applicable to Cluster 1, Cluster 2, Cluster 3, Cluster 4, Cluster 5 .    48. The reason ice floats on water is because it   A. is a solid.  B. contains more air.  C. has less heat energy than water.  D. is less de nse than water.   This question is applicable to Cluster 1, Cluster 2, Cluster 3, Cluster 4, Cluster 5 .    49. Compared to an elevation of 1,000 meters, the air pressure at sea level is generally   A. lower.  B. higher.  C. the same.  D. lower in the summer.   This question is applicable to Cluster 1, Cluster 2, Cluster 3, Cluster 4, Cluster 5 .    50. Assuming equal volumes, the expansion of solids is usually   A. greater than liquids.  B. the same as liquids.  C. greater than gases  D. less than liquids.   This qu estion is applicable to Cluster 1, Cluster 2, Cluster 3, Cluster 4, Cluster 5 . Trade Entrance Exam  Study Guide  Science   23 Classification: Protected A Trade Entrance Exam Study Guide     51. Which of the following is true?   A. A liquid has no mass, shape, or volume.  B. A liquid will expand to fit the container it is in.  C. Liquids can not be easily compressed.  D. A liquid has mass but no shape or volume.   This question is applicable to Cluster 1, Cluster 2, Cluster 3, Cluster 4, Cluster 5 .    52. The ability to do work is known as   A. power.  B. energy.  C. force.  D. effort.   This question is applicable to Cluster 1, Cluster 2, Cluster 3, Cluster 4, Cluster 5 .    53. A parallel circuit is one in which   A. two batteries are included in the circuit.  B. current can flow through only one path.  C. current can flow through more than one path.  D. light bulbs must not be used.   This question is applicable to Cluster 3, Cluster 4, Cluster 5 .    54. A series circuit includes several lamps. When the light bulb from one lamp is removed the other lights will   A. stay lit.  B. stay lit and get brighter.  C. stay lit and get dimmer.  D. no longer be lit.   This question is applicable to Cluster 3, Cluster 4, Cluster 5 . Trade Entrance Exam  Study Guide  Science   24 Classification: Protected A Trade Entrance Exam Study Guide     55. Refer to diagram 003. To ensure safe climbing practice, the base of a straight lad der should be one meter out for every four meters of height to the point of support. If h = 8 m, what is the value of d?   A. 2 m B. 2.5 m  C. 3.2 m  D. 4 m   This question is applicable to Cluster 1, Cluster 2, Cluster 3, Cluster 4, Cluster 5 .    56. When trying to move a 150 kg rock using a 3 meter pry bar you can make the task easier by placing a smaller rock under the pry bar   A. 1.0 meter from the large rock.  B. 1.5 meters from the large rock.  C. 2.0 meters from the large rock.  D. 2.5 meters from the la rge rock.   This question is applicable to Cluster 1, Cluster 2, Cluster 3, Cluster 4, Cluster 5 .    57. Given the relationship E(voltage) = I(current) x R(resistance), what is the current in a circuit with E = 6 volts and R = 15 ohms?   A. 0.04 amps  B. 0.40 amps  C. 4.00 amps  D. 40.00 amps   This question is applicable to Cluster 3, Cluster 4, Cluster 5 .    58. A liter of water has a mass of   A. 1 kg B. 1 km  C. 1 ksec  D. 1 kW   This question is applicable to Cluster 2, Cluster 3, Cluster 4 . Trade Entrance Exam  Study Guide  Science   25 Classification: Protected A Trade Entrance Exam Study Guide     59. A fulcrum is used to support a   A. wedge.  B. ramp.  C. drawer.  D. lever.   This question is applicable to Cluster 2, Cluster 3, Cluster 4, Cluster 5 .    60. Which of the following does not affect the amount of heat a body will store?   A. Density.  B. Altitude.  C. Mass.  D. Both (a) and (c).   This question is applicable to Cluster 2, Cluster 3, Cluster 4, Cluster 5 .    61. If friction can cause heat to be released, letting a cord slide quickly through your hands will cause   A. your hands to feel cool.  B. your hands to become wet.  C. your hands to feel warmer.  D. your hands to feel stiff.   This question is applicable to Cluster 1, Cluster 2, Cluster 3, Cluster 4, Cluster 5 .    62. What causes a coasting vehicle in motion to eventually come to a stop?  A. Friction.  B. Expansion.  C. Contraction.  D. Potential Energy.   This question is applicable to Cluster 3, Cluster 4, Cluster 5 .    63. The chemical combination of two or more elements is known as a/an   A. isotope.  B. ion. C. compound.  D. catalyst.   This question is applicable to Cluster 1, Cluster 2, Cluster 3, Cluster 4, Cluster 5. Trade Entrance Exam  Study Guide  Science   26 Classification: Protected A Trade Entrance Exam Study Guide     64. The molecular composition of water is   A. 2 hydrogen atoms + 2 oxygen atoms.  B. 1 hydrogen atom + 1 oxygen atom.  C. 2 hydrogen atoms + 1 oxygen atom.  D. 2 oxygen atoms + 1 Hydrogen atom.   This question is applicable to Cluster 1, Cluster 2, Cluster 3, Cluster 4, Cluster 5.     65. If a gas in a closed space is compressed, it will   A. decrease in temperat ure. B. increase in temperature.  C. solidify.  D. move more slowly.   This question is applicable to Cluster 3, Cluster 4, Cluster 5.     66. The reason inventors have not been able to invent a machine that is 100% efficient is because of   A. gravity.  B. inertia.  C. technology.  D. friction.   This question is applicable to Cluster 2, Cluster 3, Cluster 4, Cluster 5.     67. How much work is done in 1 minute by a machine operating at 300 ft. lb./sec   A. 300 ft lb  B. 1,800 ft lb  C. 18,000 ft lb  D. 180,000 ft lb   This question is applicable to Cluster 2, Cluster 3, Cluster 4, Cluster 5.     68. The volume of a cube which is 5 meters per side is   A. 5 cubic meters.  B. 25 cubic meters.  C. 75 cubic meters.  D. 125 cubic meters.   This question is applicable to Cluster 2, Cluster 3, Cluster 4, Cluster 5. Trade Entrance Exam  Study Guide  Science   27 Classification: Protected A Trade Entrance Exam Study Guide      69. Refer to Diagram 020. Four pumps are shown in the diagram. Arrows show the direction the piston is being moved. Choose the only pump that will pump water.   A. B. C. D.   This question is applicable to Cluster 3, Cluster 4.     70. Refer to Diagram 014. Which diagram shows what happens when heat is applied to a bi -metal strip consisting of stainless steel on the top and brass on the bottom? (Brass has the higher expansion rate.)   A. B. C. D.   This question is applicable to Cluster 1 . Trade Entrance Exam  Diagram Book   33 Classification: Protected A  Trade Entrance Exam Answer Key   1. A 36. B 2. D 37. D 3. C 38. A 4 D 39. B 5 A 40. A 6. D 41. A 7. C 42. C 8. B 43. C 9. B 44. C 10. B 45. C 11. C 46. B 12. C 47. A 13. D 48. D 14. C 49. B 15. C 50. D 16. B 51. C 17. D 52. B 18. D 53. C 19. C 54. D 20. C 55. A 21. B 56. A 22. A 57. B 23. C 58. A 24. A 59. D 25. D 60. B 26. D 61. C 27. B 62 A 28. D 63 C 29. C 64 C 30. C 65. B 31. C 66. D 32. B 67. C 33. D 68. D 34. A 69. D 35. C 70. C\",\n",
       " 'number': 20,\n",
       " 'response_json': '{\"1\": {\"mcq\": \"multiple choice question\", \"options\": {\"A.\": \"choice here\", \"B.\": \"choice here\", \"C.\": \"choice here\", \"D.\": \"choice here\"}, \"correct\": \"correct answer\"}, \"2\": {\"mcq\": \"multiple choice question\", \"options\": {\"A.\": \"choice here\", \"B.\": \"choice here\", \"C.\": \"choice here\", \"D.\": \"choice here\"}, \"correct\": \"correct answer\"}, \"3\": {\"mcq\": \"multiple choice question\", \"options\": {\"A.\": \"choice here\", \"B.\": \"choice here\", \"C.\": \"choice here\", \"D.\": \"choice here\"}, \"correct\": \"correct answer\"}}',\n",
       " 'quiz': '{\"1\": {\"mcq\": \"What is the process called when a gas changes into a liquid?\", \"options\": {\"A. Condensation\": \"Condensation\", \"B. Vaporization\": \"Vaporization\", \"C. Sublimation\": \"Sublimation\", \"D. Melting\": \"Melting\"}, \"correct\": \"A. Condensation\"}, \"2\": {\"mcq\": \"Which of the following is the SI unit of force?\", \"options\": {\"A. Newton\": \"Newton\", \"B. Joule\": \"Joule\", \"C. Watt\": \"Watt\", \"D. Ohm\": \"Ohm\"}, \"correct\": \"A. Newton\"}, \"3\": {\"mcq\": \"What is the formula to calculate density?\", \"options\": {\"A. Density = Mass / Volume\": \"Density = Mass / Volume\", \"B. Density = Volume / Mass\": \"Density = Volume / Mass\", \"C. Density = Mass * Volume\": \"Density = Mass * Volume\", \"D. Density = Mass + Volume\": \"Density = Mass + Volume\"}, \"correct\": \"A. Density = Mass / Volume\"}, \"4\": {\"mcq\": \"Which of the following is a non-metallic element?\", \"options\": {\"A. Iron\": \"Iron\", \"B. Copper\": \"Copper\", \"C. Oxygen\": \"Oxygen\", \"D. Silver\": \"Silver\"}, \"correct\": \"C. Oxygen\"}, \"5\": {\"mcq\": \"What is the force that resists the motion of an object through a fluid called?\", \"options\": {\"A. Inertia\": \"Inertia\", \"B. Friction\": \"Friction\", \"C. Gravity\": \"Gravity\", \"D. Tension\": \"Tension\"}, \"correct\": \"B. Friction\"}, \"6\": {\"mcq\": \"Which of the following is a renewable source of energy?\", \"options\": {\"A. Coal\": \"Coal\", \"B. Natural Gas\": \"Natural Gas\", \"C. Solar Power',\n",
       " 'review': \"As an expert exam reviewer with extensive experience in working with the Apprenticeship and Industry Training (AIT) organization in Alberta, Canada, it is imperative that we meticulously evaluate the provided multiple-choice questions to ensure they meet the required standard for pre-apprenticeship entrance exams.\\n\\nLet's start by analyzing the complexity of each question:\\n1. The question on the process of a gas changing into a liquid is straightforward and falls within the expected difficulty level for pre-apprenticeship students.\\n2. The inquiry about the SI unit of force is fundamental yet essential for understanding basic physics principles.\\n3. The question regarding the formula to calculate density is a fundamental concept that students should grasp at this level.\\n4. Identifying a non-metallic element is a critical knowledge check for students studying elements and their properties.\\n5. Understanding the force that resists motion through a fluid is a practical application of physics principles.\\n6. Recognizing renewable sources of energy is a crucial topic for students to understand sustainability and energy options.\\n\\nIn terms of balance, the mix of calculation questions and theoretical/conceptual questions seems appropriate based on the provided questions.\\n\\nAccuracy is paramount in ensuring the correctness of formulas, units used, and provided answers. We must meticulously verify that all information is factually accurate and aligns with the expected knowledge level of pre-apprenticeship students.\\n\\nIf any questions do not meet the required standard, we must identify and replace them with new questions that adhere to the existing structure and meet the specified requirements. The new questions should be unique, diverse, and cover a range of topics within the provided vocabulary handout.\\n\\nIn conclusion, our evaluation criteria focus on accuracy, complexity, and the inclusion of calculation-based questions. By adhering to these standards, we can guarantee that the exam questions meet the necessary requirements for pre-apprenticeship entrance exams.\"}"
      ]
     },
     "execution_count": 33,
     "metadata": {},
     "output_type": "execute_result"
    }
   ],
   "source": [
    "response"
   ]
  },
  {
   "cell_type": "code",
   "execution_count": 34,
   "metadata": {},
   "outputs": [
    {
     "name": "stdout",
     "output_type": "stream",
     "text": [
      "{\"1\": {\"mcq\": \"What is the process called when a gas changes into a liquid?\", \"options\": {\"A. Condensation\": \"Condensation\", \"B. Vaporization\": \"Vaporization\", \"C. Sublimation\": \"Sublimation\", \"D. Melting\": \"Melting\"}, \"correct\": \"A. Condensation\"}, \"2\": {\"mcq\": \"Which of the following is the SI unit of force?\", \"options\": {\"A. Newton\": \"Newton\", \"B. Joule\": \"Joule\", \"C. Watt\": \"Watt\", \"D. Ohm\": \"Ohm\"}, \"correct\": \"A. Newton\"}, \"3\": {\"mcq\": \"What is the formula to calculate density?\", \"options\": {\"A. Density = Mass / Volume\": \"Density = Mass / Volume\", \"B. Density = Volume / Mass\": \"Density = Volume / Mass\", \"C. Density = Mass * Volume\": \"Density = Mass * Volume\", \"D. Density = Mass + Volume\": \"Density = Mass + Volume\"}, \"correct\": \"A. Density = Mass / Volume\"}, \"4\": {\"mcq\": \"Which of the following is a non-metallic element?\", \"options\": {\"A. Iron\": \"Iron\", \"B. Copper\": \"Copper\", \"C. Oxygen\": \"Oxygen\", \"D. Silver\": \"Silver\"}, \"correct\": \"C. Oxygen\"}, \"5\": {\"mcq\": \"What is the force that resists the motion of an object through a fluid called?\", \"options\": {\"A. Inertia\": \"Inertia\", \"B. Friction\": \"Friction\", \"C. Gravity\": \"Gravity\", \"D. Tension\": \"Tension\"}, \"correct\": \"B. Friction\"}, \"6\": {\"mcq\": \"Which of the following is a renewable source of energy?\", \"options\": {\"A. Coal\": \"Coal\", \"B. Natural Gas\": \"Natural Gas\", \"C. Solar Power\n"
     ]
    }
   ],
   "source": [
    "print(response[\"quiz\"])"
   ]
  },
  {
   "cell_type": "code",
   "execution_count": 35,
   "metadata": {},
   "outputs": [
    {
     "name": "stdout",
     "output_type": "stream",
     "text": [
      "As an expert exam reviewer with extensive experience in working with the Apprenticeship and Industry Training (AIT) organization in Alberta, Canada, it is imperative that we meticulously evaluate the provided multiple-choice questions to ensure they meet the required standard for pre-apprenticeship entrance exams.\n",
      "\n",
      "Let's start by analyzing the complexity of each question:\n",
      "1. The question on the process of a gas changing into a liquid is straightforward and falls within the expected difficulty level for pre-apprenticeship students.\n",
      "2. The inquiry about the SI unit of force is fundamental yet essential for understanding basic physics principles.\n",
      "3. The question regarding the formula to calculate density is a fundamental concept that students should grasp at this level.\n",
      "4. Identifying a non-metallic element is a critical knowledge check for students studying elements and their properties.\n",
      "5. Understanding the force that resists motion through a fluid is a practical application of physics principles.\n",
      "6. Recognizing renewable sources of energy is a crucial topic for students to understand sustainability and energy options.\n",
      "\n",
      "In terms of balance, the mix of calculation questions and theoretical/conceptual questions seems appropriate based on the provided questions.\n",
      "\n",
      "Accuracy is paramount in ensuring the correctness of formulas, units used, and provided answers. We must meticulously verify that all information is factually accurate and aligns with the expected knowledge level of pre-apprenticeship students.\n",
      "\n",
      "If any questions do not meet the required standard, we must identify and replace them with new questions that adhere to the existing structure and meet the specified requirements. The new questions should be unique, diverse, and cover a range of topics within the provided vocabulary handout.\n",
      "\n",
      "In conclusion, our evaluation criteria focus on accuracy, complexity, and the inclusion of calculation-based questions. By adhering to these standards, we can guarantee that the exam questions meet the necessary requirements for pre-apprenticeship entrance exams.\n"
     ]
    }
   ],
   "source": [
    "print(response[\"review\"])"
   ]
  },
  {
   "cell_type": "code",
   "execution_count": 36,
   "metadata": {},
   "outputs": [],
   "source": [
    "quiz = response.get(\"quiz\")"
   ]
  },
  {
   "cell_type": "code",
   "execution_count": 38,
   "metadata": {},
   "outputs": [
    {
     "name": "stdout",
     "output_type": "stream",
     "text": [
      "{\"1\": {\"mcq\": \"What is the process called when a gas changes into a liquid?\", \"options\": {\"A. Condensation\": \"Condensation\", \"B. Vaporization\": \"Vaporization\", \"C. Sublimation\": \"Sublimation\", \"D. Melting\": \"Melting\"}, \"correct\": \"A. Condensation\"}, \"2\": {\"mcq\": \"Which of the following is the SI unit of force?\", \"options\": {\"A. Newton\": \"Newton\", \"B. Joule\": \"Joule\", \"C. Watt\": \"Watt\", \"D. Ohm\": \"Ohm\"}, \"correct\": \"A. Newton\"}, \"3\": {\"mcq\": \"What is the formula to calculate density?\", \"options\": {\"A. Density = Mass / Volume\": \"Density = Mass / Volume\", \"B. Density = Volume / Mass\": \"Density = Volume / Mass\", \"C. Density = Mass * Volume\": \"Density = Mass * Volume\", \"D. Density = Mass + Volume\": \"Density = Mass + Volume\"}, \"correct\": \"A. Density = Mass / Volume\"}, \"4\": {\"mcq\": \"Which of the following is a non-metallic element?\", \"options\": {\"A. Iron\": \"Iron\", \"B. Copper\": \"Copper\", \"C. Oxygen\": \"Oxygen\", \"D. Silver\": \"Silver\"}, \"correct\": \"C. Oxygen\"}, \"5\": {\"mcq\": \"What is the force that resists the motion of an object through a fluid called?\", \"options\": {\"A. Inertia\": \"Inertia\", \"B. Friction\": \"Friction\", \"C. Gravity\": \"Gravity\", \"D. Tension\": \"Tension\"}, \"correct\": \"B. Friction\"}, \"6\": {\"mcq\": \"Which of the following is a renewable source of energy?\", \"options\": {\"A. Coal\": \"Coal\", \"B. Natural Gas\": \"Natural Gas\", \"C. Solar Power\n"
     ]
    }
   ],
   "source": [
    "print(response[\"quiz\"])"
   ]
  },
  {
   "cell_type": "code",
   "execution_count": 37,
   "metadata": {},
   "outputs": [
    {
     "ename": "JSONDecodeError",
     "evalue": "Unterminated string starting at: line 1 column 1339 (char 1338)",
     "output_type": "error",
     "traceback": [
      "\u001b[1;31m---------------------------------------------------------------------------\u001b[0m",
      "\u001b[1;31mJSONDecodeError\u001b[0m                           Traceback (most recent call last)",
      "Cell \u001b[1;32mIn[37], line 1\u001b[0m\n\u001b[1;32m----> 1\u001b[0m quiz \u001b[38;5;241m=\u001b[39m \u001b[43mjson\u001b[49m\u001b[38;5;241;43m.\u001b[39;49m\u001b[43mloads\u001b[49m\u001b[43m(\u001b[49m\u001b[43mquiz\u001b[49m\u001b[43m)\u001b[49m\n",
      "File \u001b[1;32mc:\\Users\\samue\\anaconda3\\envs\\generative_ai\\lib\\json\\__init__.py:346\u001b[0m, in \u001b[0;36mloads\u001b[1;34m(s, cls, object_hook, parse_float, parse_int, parse_constant, object_pairs_hook, **kw)\u001b[0m\n\u001b[0;32m    341\u001b[0m     s \u001b[38;5;241m=\u001b[39m s\u001b[38;5;241m.\u001b[39mdecode(detect_encoding(s), \u001b[38;5;124m'\u001b[39m\u001b[38;5;124msurrogatepass\u001b[39m\u001b[38;5;124m'\u001b[39m)\n\u001b[0;32m    343\u001b[0m \u001b[38;5;28;01mif\u001b[39;00m (\u001b[38;5;28mcls\u001b[39m \u001b[38;5;129;01mis\u001b[39;00m \u001b[38;5;28;01mNone\u001b[39;00m \u001b[38;5;129;01mand\u001b[39;00m object_hook \u001b[38;5;129;01mis\u001b[39;00m \u001b[38;5;28;01mNone\u001b[39;00m \u001b[38;5;129;01mand\u001b[39;00m\n\u001b[0;32m    344\u001b[0m         parse_int \u001b[38;5;129;01mis\u001b[39;00m \u001b[38;5;28;01mNone\u001b[39;00m \u001b[38;5;129;01mand\u001b[39;00m parse_float \u001b[38;5;129;01mis\u001b[39;00m \u001b[38;5;28;01mNone\u001b[39;00m \u001b[38;5;129;01mand\u001b[39;00m\n\u001b[0;32m    345\u001b[0m         parse_constant \u001b[38;5;129;01mis\u001b[39;00m \u001b[38;5;28;01mNone\u001b[39;00m \u001b[38;5;129;01mand\u001b[39;00m object_pairs_hook \u001b[38;5;129;01mis\u001b[39;00m \u001b[38;5;28;01mNone\u001b[39;00m \u001b[38;5;129;01mand\u001b[39;00m \u001b[38;5;129;01mnot\u001b[39;00m kw):\n\u001b[1;32m--> 346\u001b[0m     \u001b[38;5;28;01mreturn\u001b[39;00m \u001b[43m_default_decoder\u001b[49m\u001b[38;5;241;43m.\u001b[39;49m\u001b[43mdecode\u001b[49m\u001b[43m(\u001b[49m\u001b[43ms\u001b[49m\u001b[43m)\u001b[49m\n\u001b[0;32m    347\u001b[0m \u001b[38;5;28;01mif\u001b[39;00m \u001b[38;5;28mcls\u001b[39m \u001b[38;5;129;01mis\u001b[39;00m \u001b[38;5;28;01mNone\u001b[39;00m:\n\u001b[0;32m    348\u001b[0m     \u001b[38;5;28mcls\u001b[39m \u001b[38;5;241m=\u001b[39m JSONDecoder\n",
      "File \u001b[1;32mc:\\Users\\samue\\anaconda3\\envs\\generative_ai\\lib\\json\\decoder.py:337\u001b[0m, in \u001b[0;36mJSONDecoder.decode\u001b[1;34m(self, s, _w)\u001b[0m\n\u001b[0;32m    332\u001b[0m \u001b[38;5;28;01mdef\u001b[39;00m \u001b[38;5;21mdecode\u001b[39m(\u001b[38;5;28mself\u001b[39m, s, _w\u001b[38;5;241m=\u001b[39mWHITESPACE\u001b[38;5;241m.\u001b[39mmatch):\n\u001b[0;32m    333\u001b[0m \u001b[38;5;250m    \u001b[39m\u001b[38;5;124;03m\"\"\"Return the Python representation of ``s`` (a ``str`` instance\u001b[39;00m\n\u001b[0;32m    334\u001b[0m \u001b[38;5;124;03m    containing a JSON document).\u001b[39;00m\n\u001b[0;32m    335\u001b[0m \n\u001b[0;32m    336\u001b[0m \u001b[38;5;124;03m    \"\"\"\u001b[39;00m\n\u001b[1;32m--> 337\u001b[0m     obj, end \u001b[38;5;241m=\u001b[39m \u001b[38;5;28;43mself\u001b[39;49m\u001b[38;5;241;43m.\u001b[39;49m\u001b[43mraw_decode\u001b[49m\u001b[43m(\u001b[49m\u001b[43ms\u001b[49m\u001b[43m,\u001b[49m\u001b[43m \u001b[49m\u001b[43midx\u001b[49m\u001b[38;5;241;43m=\u001b[39;49m\u001b[43m_w\u001b[49m\u001b[43m(\u001b[49m\u001b[43ms\u001b[49m\u001b[43m,\u001b[49m\u001b[43m \u001b[49m\u001b[38;5;241;43m0\u001b[39;49m\u001b[43m)\u001b[49m\u001b[38;5;241;43m.\u001b[39;49m\u001b[43mend\u001b[49m\u001b[43m(\u001b[49m\u001b[43m)\u001b[49m\u001b[43m)\u001b[49m\n\u001b[0;32m    338\u001b[0m     end \u001b[38;5;241m=\u001b[39m _w(s, end)\u001b[38;5;241m.\u001b[39mend()\n\u001b[0;32m    339\u001b[0m     \u001b[38;5;28;01mif\u001b[39;00m end \u001b[38;5;241m!=\u001b[39m \u001b[38;5;28mlen\u001b[39m(s):\n",
      "File \u001b[1;32mc:\\Users\\samue\\anaconda3\\envs\\generative_ai\\lib\\json\\decoder.py:353\u001b[0m, in \u001b[0;36mJSONDecoder.raw_decode\u001b[1;34m(self, s, idx)\u001b[0m\n\u001b[0;32m    344\u001b[0m \u001b[38;5;250m\u001b[39m\u001b[38;5;124;03m\"\"\"Decode a JSON document from ``s`` (a ``str`` beginning with\u001b[39;00m\n\u001b[0;32m    345\u001b[0m \u001b[38;5;124;03ma JSON document) and return a 2-tuple of the Python\u001b[39;00m\n\u001b[0;32m    346\u001b[0m \u001b[38;5;124;03mrepresentation and the index in ``s`` where the document ended.\u001b[39;00m\n\u001b[1;32m   (...)\u001b[0m\n\u001b[0;32m    350\u001b[0m \n\u001b[0;32m    351\u001b[0m \u001b[38;5;124;03m\"\"\"\u001b[39;00m\n\u001b[0;32m    352\u001b[0m \u001b[38;5;28;01mtry\u001b[39;00m:\n\u001b[1;32m--> 353\u001b[0m     obj, end \u001b[38;5;241m=\u001b[39m \u001b[38;5;28;43mself\u001b[39;49m\u001b[38;5;241;43m.\u001b[39;49m\u001b[43mscan_once\u001b[49m\u001b[43m(\u001b[49m\u001b[43ms\u001b[49m\u001b[43m,\u001b[49m\u001b[43m \u001b[49m\u001b[43midx\u001b[49m\u001b[43m)\u001b[49m\n\u001b[0;32m    354\u001b[0m \u001b[38;5;28;01mexcept\u001b[39;00m \u001b[38;5;167;01mStopIteration\u001b[39;00m \u001b[38;5;28;01mas\u001b[39;00m err:\n\u001b[0;32m    355\u001b[0m     \u001b[38;5;28;01mraise\u001b[39;00m JSONDecodeError(\u001b[38;5;124m\"\u001b[39m\u001b[38;5;124mExpecting value\u001b[39m\u001b[38;5;124m\"\u001b[39m, s, err\u001b[38;5;241m.\u001b[39mvalue) \u001b[38;5;28;01mfrom\u001b[39;00m \u001b[38;5;28;01mNone\u001b[39;00m\n",
      "\u001b[1;31mJSONDecodeError\u001b[0m: Unterminated string starting at: line 1 column 1339 (char 1338)"
     ]
    }
   ],
   "source": [
    "quiz = json.loads(quiz)"
   ]
  },
  {
   "cell_type": "code",
   "execution_count": 56,
   "metadata": {},
   "outputs": [
    {
     "data": {
      "text/plain": [
       "15"
      ]
     },
     "execution_count": 56,
     "metadata": {},
     "output_type": "execute_result"
    }
   ],
   "source": [
    "len(quiz)"
   ]
  },
  {
   "cell_type": "code",
   "execution_count": 57,
   "metadata": {},
   "outputs": [],
   "source": [
    "quiz_table_data = []\n",
    "\n",
    "for key, value in quiz.items():\n",
    "    mcq = value[\"mcq\"]\n",
    "    options = \" | \".join(\n",
    "        [\n",
    "            f\"{option}: {option_value}\"\n",
    "            for option, option_value in value[\"options\"].items()\n",
    "            ]\n",
    "        )\n",
    "    correct = value[\"correct\"]\n",
    "    quiz_table_data.append({\"MCQ\": mcq, \"Choices\": options, \"Correct\": correct})"
   ]
  },
  {
   "cell_type": "code",
   "execution_count": 58,
   "metadata": {},
   "outputs": [
    {
     "data": {
      "text/plain": [
       "[{'MCQ': 'What is the SI unit of pressure?',\n",
       "  'Choices': 'A.: Watts | B.: Joules | C.: Pascals | D.: Kelvin',\n",
       "  'Correct': 'C. Pascals'},\n",
       " {'MCQ': 'Which type of pressure includes the weight of the atmosphere?',\n",
       "  'Choices': 'A.: Atmospheric Pressure | B.: Pneumatic Pressure | C.: Gauge Pressure | D.: Hydraulic Pressure',\n",
       "  'Correct': 'C. Gauge Pressure'},\n",
       " {'MCQ': \"In the Ideal Gas Law equation PV = nRT, what does 'n' represent?\",\n",
       "  'Choices': 'A.: Volume | B.: Pressure | C.: Number of moles of gas | D.: Ideal gas constant',\n",
       "  'Correct': 'C. Number of moles of gas'},\n",
       " {'MCQ': \"What does Pascal's Principle state?\",\n",
       "  'Choices': 'A.: Volume is inversely proportional to pressure | B.: Pressure is transmitted undiminished in an enclosed fluid | C.: Temperature is directly proportional to volume | D.: Density is inversely proportional to pressure',\n",
       "  'Correct': 'B. Pressure is transmitted undiminished in an enclosed fluid'},\n",
       " {'MCQ': 'How does pressure change with altitude?',\n",
       "  'Choices': 'A.: Directly proportional | B.: Exponentially proportional | C.: Inversely proportional | D.: Constant',\n",
       "  'Correct': 'C. Inversely proportional'},\n",
       " {'MCQ': 'What is the formula for calculating hydrostatic pressure in a liquid?',\n",
       "  'Choices': 'A.: P = F/A | B.: P = ρgh | C.: P = nRT | D.: P = W/g',\n",
       "  'Correct': 'B. P = ρgh'},\n",
       " {'MCQ': 'Which type of energy is the internal energy a body possesses?',\n",
       "  'Choices': 'A.: Mechanical Energy | B.: Radiant Energy | C.: Potential Energy | D.: Electrical Energy',\n",
       "  'Correct': 'C. Potential Energy'},\n",
       " {'MCQ': 'According to the Law of Conservation of Energy, what can energy be changed into?',\n",
       "  'Choices': 'A.: Matter | B.: Light | C.: Sound | D.: Another form of energy',\n",
       "  'Correct': 'D. Another form of energy'},\n",
       " {'MCQ': 'What is the formula for calculating work done?',\n",
       "  'Choices': 'A.: W = Fd | B.: W = ρgh | C.: W = nRT | D.: W = P/A',\n",
       "  'Correct': 'A. W = Fd'},\n",
       " {'MCQ': 'Which SI unit is used to measure power?',\n",
       "  'Choices': 'A.: Joules | B.: Watts | C.: Pascals | D.: Kelvin',\n",
       "  'Correct': 'B. Watts'},\n",
       " {'MCQ': 'What is the measure of the density of a substance in comparison to the density of water?',\n",
       "  'Choices': 'A.: Relative Density | B.: Specific Gravity | C.: Density Ratio | D.: Weight Ratio',\n",
       "  'Correct': 'B. Specific Gravity'},\n",
       " {'MCQ': 'Which force buoyes up a body completely or partially submerged in a fluid?',\n",
       "  'Choices': 'A.: Gravity Force | B.: Friction Force | C.: Buoyant Force | D.: Magnetic Force',\n",
       "  'Correct': 'C. Buoyant Force'},\n",
       " {'MCQ': 'What is the SI unit of energy?',\n",
       "  'Choices': 'A.: Watts | B.: Joules | C.: Pascals | D.: Kelvin',\n",
       "  'Correct': 'B. Joules'},\n",
       " {'MCQ': 'Which energy type is the energy of motion?',\n",
       "  'Choices': 'A.: Chemical Energy | B.: Electrical Energy | C.: Kinetic Energy | D.: Nuclear Energy',\n",
       "  'Correct': 'C. Kinetic Energy'},\n",
       " {'MCQ': 'What does the Law of Conservation of Energy state?',\n",
       "  'Choices': 'A.: Energy can be created | B.: Energy can be destroyed | C.: Energy can be converted | D.: Energy is constant',\n",
       "  'Correct': 'D. Energy is constant'}]"
      ]
     },
     "execution_count": 58,
     "metadata": {},
     "output_type": "execute_result"
    }
   ],
   "source": [
    "quiz_table_data"
   ]
  },
  {
   "cell_type": "code",
   "execution_count": 59,
   "metadata": {},
   "outputs": [
    {
     "name": "stderr",
     "output_type": "stream",
     "text": [
      "c:\\Users\\samue\\anaconda3\\envs\\generative_ai\\lib\\site-packages\\docx\\styles\\styles.py:130: UserWarning: style lookup by style_id is deprecated. Use style name as key instead.\n",
      "  return self._get_style_id_from_style(self[style_name], style_type)\n"
     ]
    }
   ],
   "source": [
    "doc = Document()\n",
    "\n",
    "# Add a heading\n",
    "doc.add_heading('Sample Practice Quiz Questions', level=1)\n",
    "\n",
    "# Write each question, options, and correct answer\n",
    "for i, (key, value) in enumerate(quiz.items(), start=1):\n",
    "    mcq = value[\"mcq\"]\n",
    "    options = \"\\n\".join([f\"{option}: {option_value}\" for option, option_value in value[\"options\"].items()])\n",
    "    correct = value[\"correct\"]\n",
    "    # Add question number\n",
    "    doc.add_paragraph(f'{i}. {mcq}', style='BodyText')\n",
    "    # Add options\n",
    "    doc.add_paragraph(options, style='BodyText')\n",
    "    # Add correct answer\n",
    "    doc.add_paragraph(f'Correct Answer: {correct}', style='BodyText')\n",
    "    \n",
    "    # Add spacing between questions\n",
    "    if i < len(quiz):\n",
    "        doc.add_paragraph('\\n')\n",
    "\n",
    "# Save the document\n",
    "doc.save('Lesson_4-6_Quiz_Questions.docx')"
   ]
  },
  {
   "cell_type": "code",
   "execution_count": 89,
   "metadata": {},
   "outputs": [
    {
     "data": {
      "text/html": [
       "<div>\n",
       "<style scoped>\n",
       "    .dataframe tbody tr th:only-of-type {\n",
       "        vertical-align: middle;\n",
       "    }\n",
       "\n",
       "    .dataframe tbody tr th {\n",
       "        vertical-align: top;\n",
       "    }\n",
       "\n",
       "    .dataframe thead th {\n",
       "        text-align: right;\n",
       "    }\n",
       "</style>\n",
       "<table border=\"1\" class=\"dataframe\">\n",
       "  <thead>\n",
       "    <tr style=\"text-align: right;\">\n",
       "      <th></th>\n",
       "      <th>MCQ</th>\n",
       "      <th>Choices</th>\n",
       "      <th>Correct</th>\n",
       "    </tr>\n",
       "  </thead>\n",
       "  <tbody>\n",
       "    <tr>\n",
       "      <th>0</th>\n",
       "      <td>What is the basic property of matter that is t...</td>\n",
       "      <td>A.: Volume | B.: Mass | C.: Shape | D.: Weight</td>\n",
       "      <td>B. Mass</td>\n",
       "    </tr>\n",
       "    <tr>\n",
       "      <th>1</th>\n",
       "      <td>Which state of matter has a definite shape and...</td>\n",
       "      <td>A.: Solids | B.: Liquids | C.: Gases | D.: Plasma</td>\n",
       "      <td>A. Solids</td>\n",
       "    </tr>\n",
       "    <tr>\n",
       "      <th>2</th>\n",
       "      <td>What is the characteristic of gases in terms o...</td>\n",
       "      <td>A.: Definite shape, definite volume | B.: No d...</td>\n",
       "      <td>C. No definite shape, no definite volume</td>\n",
       "    </tr>\n",
       "    <tr>\n",
       "      <th>3</th>\n",
       "      <td>Which state of matter has molecules that are t...</td>\n",
       "      <td>A.: Solids | B.: Liquids | C.: Gases | D.: Plasma</td>\n",
       "      <td>A. Solids</td>\n",
       "    </tr>\n",
       "    <tr>\n",
       "      <th>4</th>\n",
       "      <td>What is the expansion behavior of gases when h...</td>\n",
       "      <td>A.: Contracts back to original size | B.: Expa...</td>\n",
       "      <td>D. Easily expands and contracts</td>\n",
       "    </tr>\n",
       "    <tr>\n",
       "      <th>5</th>\n",
       "      <td>At what temperature does a liquid begin to cha...</td>\n",
       "      <td>A.: Melting point | B.: Freezing point | C.: B...</td>\n",
       "      <td>C. Boiling point</td>\n",
       "    </tr>\n",
       "    <tr>\n",
       "      <th>6</th>\n",
       "      <td>Which type of property describes how a substan...</td>\n",
       "      <td>A.: Physical property | B.: Chemical property ...</td>\n",
       "      <td>B. Chemical property</td>\n",
       "    </tr>\n",
       "    <tr>\n",
       "      <th>7</th>\n",
       "      <td>What is the SI unit for force?</td>\n",
       "      <td>A.: Joules | B.: Watts | C.: Volts | D.: Newtons</td>\n",
       "      <td>D. Newtons</td>\n",
       "    </tr>\n",
       "    <tr>\n",
       "      <th>8</th>\n",
       "      <td>Which law of motion states that to every actio...</td>\n",
       "      <td>A.: Newton's First Law | B.: Newton's Second L...</td>\n",
       "      <td>C. Newton's Third Law</td>\n",
       "    </tr>\n",
       "    <tr>\n",
       "      <th>9</th>\n",
       "      <td>What is the SI unit for pressure?</td>\n",
       "      <td>A.: Pascals | B.: Watts | C.: Volts | D.: Ohms</td>\n",
       "      <td>A. Pascals</td>\n",
       "    </tr>\n",
       "  </tbody>\n",
       "</table>\n",
       "</div>"
      ],
      "text/plain": [
       "                                                 MCQ  \\\n",
       "0  What is the basic property of matter that is t...   \n",
       "1  Which state of matter has a definite shape and...   \n",
       "2  What is the characteristic of gases in terms o...   \n",
       "3  Which state of matter has molecules that are t...   \n",
       "4  What is the expansion behavior of gases when h...   \n",
       "5  At what temperature does a liquid begin to cha...   \n",
       "6  Which type of property describes how a substan...   \n",
       "7                     What is the SI unit for force?   \n",
       "8  Which law of motion states that to every actio...   \n",
       "9                  What is the SI unit for pressure?   \n",
       "\n",
       "                                             Choices  \\\n",
       "0     A.: Volume | B.: Mass | C.: Shape | D.: Weight   \n",
       "1  A.: Solids | B.: Liquids | C.: Gases | D.: Plasma   \n",
       "2  A.: Definite shape, definite volume | B.: No d...   \n",
       "3  A.: Solids | B.: Liquids | C.: Gases | D.: Plasma   \n",
       "4  A.: Contracts back to original size | B.: Expa...   \n",
       "5  A.: Melting point | B.: Freezing point | C.: B...   \n",
       "6  A.: Physical property | B.: Chemical property ...   \n",
       "7   A.: Joules | B.: Watts | C.: Volts | D.: Newtons   \n",
       "8  A.: Newton's First Law | B.: Newton's Second L...   \n",
       "9     A.: Pascals | B.: Watts | C.: Volts | D.: Ohms   \n",
       "\n",
       "                                    Correct  \n",
       "0                                   B. Mass  \n",
       "1                                 A. Solids  \n",
       "2  C. No definite shape, no definite volume  \n",
       "3                                 A. Solids  \n",
       "4           D. Easily expands and contracts  \n",
       "5                          C. Boiling point  \n",
       "6                      B. Chemical property  \n",
       "7                                D. Newtons  \n",
       "8                     C. Newton's Third Law  \n",
       "9                                A. Pascals  "
      ]
     },
     "execution_count": 89,
     "metadata": {},
     "output_type": "execute_result"
    }
   ],
   "source": [
    "quiz = pd.DataFrame(quiz_table_data)\n",
    "quiz.head(10)"
   ]
  },
  {
   "cell_type": "code",
   "execution_count": null,
   "metadata": {},
   "outputs": [],
   "source": [
    "quiz.info()"
   ]
  },
  {
   "cell_type": "code",
   "execution_count": 38,
   "metadata": {},
   "outputs": [],
   "source": [
    "quiz.to_csv(\"machinelearning.csv\", index=False)"
   ]
  }
 ],
 "metadata": {
  "kernelspec": {
   "display_name": "Python 3",
   "language": "python",
   "name": "python3"
  },
  "language_info": {
   "codemirror_mode": {
    "name": "ipython",
    "version": 3
   },
   "file_extension": ".py",
   "mimetype": "text/x-python",
   "name": "python",
   "nbconvert_exporter": "python",
   "pygments_lexer": "ipython3",
   "version": "3.10.12"
  }
 },
 "nbformat": 4,
 "nbformat_minor": 2
}
